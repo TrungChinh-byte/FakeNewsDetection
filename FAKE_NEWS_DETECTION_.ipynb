{
  "cells": [
    {
      "cell_type": "markdown",
      "metadata": {
        "id": "view-in-github",
        "colab_type": "text"
      },
      "source": [
        "<a href=\"https://colab.research.google.com/github/TrungChinh-byte/FakeNewsDetection/blob/main/FAKE_NEWS_DETECTION_.ipynb\" target=\"_parent\"><img src=\"https://colab.research.google.com/assets/colab-badge.svg\" alt=\"Open In Colab\"/></a>"
      ]
    },
    {
      "cell_type": "markdown",
      "metadata": {
        "id": "eFCzIBshcHmg"
      },
      "source": [
        "# **FAKE NEWS DETECTION**\n",
        "\n",
        "##**Problem stament :**     \n",
        "\n",
        "The widespread dissemination of fake news and propaganda presents serious societal risks, including the erosion of public trust, political polarization, manipulation of elections, and the spread of harmful misinformation during crises such as pandemics or conflicts. From an NLP perspective, detecting fake news is fraught with challenges. Linguistically, fake news often mimics the tone and structure of legitimate journalism, making it difficult to distinguish using surface-level features. The absence of reliable and up-to-date labeled datasets, especially across multiple languages and regions, hampers the effectiveness of supervised learning models. Additionally, the dynamic and adversarial nature of misinformation means that malicious actors constantly evolve their language and strategies to bypass detection systems. Cultural context, sarcasm, satire, and implicit bias further complicate automated analysis. Moreover, NLP models risk amplifying biases present in training data, leading to unfair classifications and potential censorship of legitimate content. These challenges underscore the need for cautious, context-aware approaches, as the failure to address them can inadvertently contribute to misinformation, rather than mitigate it.\n",
        "\n",
        "\n",
        "\n",
        "Datasets in link : https://drive.google.com/drive/folders/1mrX3vPKhEzxG96OCPpCeh9F8m_QKCM4z?usp=sharing\n",
        "\n",
        "\n",
        "## **About dataset:**\n",
        "\n",
        "* **True Articles**:\n",
        "\n",
        "  * **File**: `MisinfoSuperset_TRUE.csv`\n",
        "  * **Sources**:\n",
        "\n",
        "    * Reputable media outlets like **Reuters**, **The New York Times**, **The Washington Post**, etc.\n",
        "\n",
        "* **Fake/Misinformation/Propaganda Articles**:\n",
        "\n",
        "  * **File**: `MisinfoSuperset_FAKE.csv`\n",
        "  * **Sources**:\n",
        "\n",
        "    * **American right-wing extremist websites** (e.g., Redflag Newsdesk, Breitbart, Truth Broadcast Network)\n",
        "    * **Public dataset** from:\n",
        "\n",
        "      * Ahmed, H., Traore, I., & Saad, S. (2017): \"Detection of Online Fake News Using N-Gram Analysis and Machine Learning Techniques\" *(Springer LNCS 10618)*\n",
        "\n",
        "\n",
        "\n",
        "## **Summary**\n",
        "\n",
        "1. **Data Preprocessing**: Clean and prepare the dataset,etc.\n",
        "\n",
        "2. **Exploratory Data Analysis (EDA)**: Explore and visualize the data.\n",
        "\n",
        "3. **SVC - XGBoost Model**: Using SVC, XGBoost to solve the classification problem of given dataset.\n",
        "\n",
        "4. **RNN - Model Building**: Building the LSTM Model (Recurrent Neural Network - RNN).\n",
        "\n",
        "5. **Hyperparameter set up**: Set and adjust the model's hyperparameters using appropriate methods to improve performance.\n",
        "\n",
        "6. **Model Training**: Train the model(s) on the training dataset.\n",
        "\n",
        "7. **Performance Evaluation**: Evaluate the trained model(s) using appropriate metrics (e.g., accuracy, precision, recall, F1-score, confusion matrix, etc.) and validate their performance on unseen data.\n",
        "\n",
        "8. **Conclusion**: Summarize the results.\n",
        "\n",
        "\n"
      ]
    },
    {
      "cell_type": "markdown",
      "metadata": {
        "id": "ShBCX80IOYgl"
      },
      "source": [
        "\n",
        "## 1. **Data Preprocessing**:"
      ]
    },
    {
      "cell_type": "markdown",
      "metadata": {
        "id": "XcHfx0nECfdq"
      },
      "source": [
        "### Loading Dataset\n",
        "- I combined two distinct datasets into a single dataset, labeling true articles as 1 and fake articles as 0."
      ]
    },
    {
      "cell_type": "code",
      "execution_count": null,
      "metadata": {
        "execution": {
          "iopub.execute_input": "2025-06-19T06:03:02.400983Z",
          "iopub.status.busy": "2025-06-19T06:03:02.400658Z",
          "iopub.status.idle": "2025-06-19T06:03:03.498033Z",
          "shell.execute_reply": "2025-06-19T06:03:03.497305Z",
          "shell.execute_reply.started": "2025-06-19T06:03:02.400954Z"
        },
        "id": "HQqbatK_OjGq"
      },
      "outputs": [],
      "source": [
        "import pandas as pd\n",
        "import numpy as np\n",
        "import matplotlib.pyplot as plt\n",
        "import seaborn as sns\n",
        "from sklearn.utils import shuffle\n",
        "import warnings\n",
        "warnings.filterwarnings(\"ignore\")\n",
        "\n",
        "RANDOM_STATE = 1"
      ]
    },
    {
      "cell_type": "code",
      "execution_count": null,
      "metadata": {
        "execution": {
          "iopub.execute_input": "2025-06-19T06:03:03.499779Z",
          "iopub.status.busy": "2025-06-19T06:03:03.499397Z",
          "iopub.status.idle": "2025-06-19T06:03:08.344913Z",
          "shell.execute_reply": "2025-06-19T06:03:08.344171Z",
          "shell.execute_reply.started": "2025-06-19T06:03:03.499755Z"
        },
        "id": "dFmZ8xPoOnph"
      },
      "outputs": [],
      "source": [
        "true_df = pd.read_csv('/content/DataSet_Misinfo_TRUE.csv')\n",
        "fake_df = pd.read_csv('/content/DataSet_Misinfo_FAKE.csv')"
      ]
    },
    {
      "cell_type": "code",
      "execution_count": null,
      "metadata": {
        "colab": {
          "base_uri": "https://localhost:8080/",
          "height": 206
        },
        "execution": {
          "iopub.execute_input": "2025-06-19T06:03:08.345997Z",
          "iopub.status.busy": "2025-06-19T06:03:08.345720Z",
          "iopub.status.idle": "2025-06-19T06:03:08.374951Z",
          "shell.execute_reply": "2025-06-19T06:03:08.374430Z",
          "shell.execute_reply.started": "2025-06-19T06:03:08.345973Z"
        },
        "id": "ZMw3WYDdPCmK",
        "outputId": "3c687511-802b-47b1-f3b4-f374ef9ce385"
      },
      "outputs": [
        {
          "data": {
            "application/vnd.google.colaboratory.intrinsic+json": {
              "summary": "{\n  \"name\": \"true_df\",\n  \"rows\": 34975,\n  \"fields\": [\n    {\n      \"column\": \"text\",\n      \"properties\": {\n        \"dtype\": \"string\",\n        \"num_unique_values\": 34526,\n        \"samples\": [\n          \"People who don't believe that unauthorized immigrants in the US should be given legal status tend to emphasize that it would be unfair to immigrants who are in the US legally \\u2014 because they deserve a reward for settling in the US \\\"the right way.\\\"\\n\\nBut what if the legal immigration process is itself unfair?\\n\\nA new study by researchers at MIT and Brown University suggest that might be what's going on \\u2014 unintentionally. They looked at applications for employment-based green cards among immigrants who were already in the US. What they found was that, in the standard approval process, Latin American immigrants were much less likely than average to get approved \\u2014 and Asian immigrants were more likely. But when the government went through a slower but more complete approval process, the disparities disappeared.\\n\\nFor this study, the researchers (Emilio J. Castilla of MIT, and Ben A. Rissing of Brown) evaluated the phase in an application for an employment-based green card where the US Department of Labor has to approve or deny the immigrant's \\\"labor certification\\\" for a particular job. These applications get filed when a company decides to take an immigrant who's (almost always) already in the country on a temporary visa \\u2014 like a work visa or student visa \\u2014 and sponsor him or her for a green card, which would let him or her stay in the US permanently and eventually apply for citizenship. So this is the phase in the process where temporary immigrants can get approved to become permanent ones.\\n\\nTechnically, this is supposed to be evaluating the immigrant's would-be employer, not the immigrant him- or herself. In order to get the immigrant \\\"labor certified\\\" for a green card \\u2014 or any work visa \\u2014 the would-be employer has to prove that they tried to find a US citizen to fill the job, but failed.\\n\\nOne thing that isn't supposed to be a factor in the application is the immigrant's country of origin. But even when the researchers controlled for as many variables as they could \\u2014 from the temporary visa that an immigrant held in the US when he filed the green-card application, to the skill level of the job \\u2014 they found that approval rates varied widely from one nationality to the next. 90.5 percent of Asian immigrants were approved for labor certification. But only 66.8 percent of Latin American immigrants were.\\n\\nThe regional disparity even showed up in immigrants applying for the same type of job. \\\"Immigrants from Asia seeking employment as restaurant cooks are 41.6 percent more likely to be approved than immigrants from Latin America, all else being equal,\\\" the researchers write. It's a problem for high-skilled workers, too: Asian immigrants weren't any more likely than Canadians (for example) to get approved to work as computer software engineers, but Latin American immigrants were over 25 percent less likely.\\n\\nThe biggest problem with the study: the government agents looking over immigrants' applications could see each immigrant's educational background, but the researchers couldn't. That could be a huge factor explaining the variation: maybe Latin American immigrants are simply less educationally qualified for the positions they're applying for.\\n\\nBut the study indicates that can't be the whole story. For example, the researchers looked at immigrants who were already on H1-B high-skilled visas (99 percent of whom have a bachelor's degree or higher) but were applying to upgrade to green cards. Among that group, Asian immigrants were still 11 percent more likely than Canadians to get approved for green cards \\u2014 and H1B-holding Latin American immigrants were 20 percent less likely.\\n\\nThere's also previous research showing that government officials profile immigrants based on their countries of origin. In one study, in which officials were asked to look over fictional visa applications, the author said that region of origin was being used strongly as a \\\"criterion of a visa applicant's desirability.\\\"\\n\\nMost of the time, the DOL makes decisions based on basic information about the immigrant, the job, and the employer, as well as evidence of the employer's failed attempt to recruit US citizens. 90 percent of those cases get approved, and they're typically approved or denied in under 4 months. But in a few cases \\u2014 thanks to a process that is partly random, and partly not \\u2014 applications are \\\"audited,\\\" and agents take a more in-depth look at an immigrant's background, and the requirements for the position. In those cases, only 57 percent of applications are approved \\u2014 and it takes about 2 years to come to a decision.\\n\\nAccording to the new study, audited applications had one big advantage over non-audited ones: the disparities in approval rates between immigrants from different regions disappeared. That might indicate that whatever is happening to favor Asian immigrants and disfavor Latin American ones in the quicker process is unintentional, since government officials don't appear to think there's good reason to be more suspicious of Latin American applicants.\\n\\nThe study's authors suggest an easy fix: making it impossible for an official to see an applicant's country of origin, just like officials aren't allowed to see applicants' ages or sexes. If this really is a significant problem, however, it's not something that changing the process in the future will be able to fix.\\n\\nIf the government is really making it harder for Latin American immigrants currently in the US legally to get green cards through their employers, they're unfairly forcing Latin American immigrants to make the difficult choice between leaving the country they've been living in for years, and staying in the US after their visas expire. In other words, the government's approval-rate problem might be driving more legal Latin American immigrants to become illegal.\",\n          \"U.S. House Speaker Paul Ryan on Wednesday called on health insurance companies to \\u201cstick it out\\u201d in the Obamacare marketplace despite concerns over its stability, saying  Republicans are continuing their push to replace current law. Speaking in an interview with Axios news outlet, Ryan said he could not address ongoing litigation over the fate of the Obamacare cost-sharing subsidies but that he has encouraged insurers to still participate in 2018.\",\n          \"Back in June, I first saw Mr. Trump announcing his candidacy for president. What he said about unauthorized\\u00a0immigrants seemed ridiculous so I laughed. I showed the video to friends, and I laughed again. His words were poorly chosen.\\n\\nBut something worse happened. People interpreted Trump\\u2019s words in the most awful and offensive ways.\\n\\nIn one of my courses, at the University of Texas at Austin, I asked my students: \\u201cWhat has Donald Trump said that you found most offensive?\\u201d One student raised her hand high: \\u201cHe said that all Mexicans are rapists.\\u201d I asked a coworker the same question. He replied: \\u201cHe said that all Mexican immigrants are rapists.\\u201d\\n\\nI explained that Trump said no such thing. This is what Trump said:\\n\\nYou might well dislike Trump\\u2019s words. I did. But let\\u2019s not make it worse. He did not say that all Mexicans are rapists. Yet that\\u2019s what many commentators did. For example,\\u00a0Politico\\u00a0misquoted Trump by omitting his phrase about \\u201cgood people.\\u201d They said he was \\u201cdemonizing Mexicans as rapists.\\u201d They argued that Mexicans do not really commit more rapes in the U.S. than whites. But that\\u2019s not what Trump claimed.\\n\\nSimilarly, other news sources misrepresented his words in offensive ways:\\n\\nCompare such words with Trump\\u2019s words. Which is worse? Writers excerpted the phrase: \\u201cthey\\u2019re rapists,\\u201d as if it were about all Mexican unauthorized immigrants, or worse, about all Mexican immigrants, or even worst, about all Mexicans. But that\\u2019s not what he said. That\\u2019s not what he meant. It was just a remark about some of the criminals crossing the border.\\n\\nThe trick for misrepresenting Trump\\u2019s words can be used against anyone.\\n\\nFor example, on October 7, at a Democratic debate, Hillary Clinton answered the question: \\u201cWhich enemy are you most proud of?\\u201d She replied: \\u201cIn addition to the NRA, um, the health insurance companies, the drug companies, um, the Iranians.\\u201d\\n\\nIf you do to her what the media did to Trump, then you should believe that Hillary Clinton is proud to be the enemy of 77 million citizens of Iran, plus millions more living outside Iran, including mothers, children, and disabled people. But that\\u2019s not what she meant.\\n\\nOn November 6, at the MSNBC Democratic Candidates Forum, Bernie Sanders said: \\u201cwe have to pass a constitutional amendment that everyone in America who is 18 years old or older is registered to vote.\\u201d He said\\u00a0everyone. Someone might then write: \\u201cHe proposed that everyone who is in the U.S. should vote, everyone who is 18, even illegal immigrants, tourists, and terrorists.\\u201d But that\\u2019s not what he meant.\\n\\nIt is no wonder that many people think the media is grossly dishonest. No wonder Mr. Trump\\u2019s critiques of the media make his followers cheer.\\n\\nTrump was discussing crimes committed by unauthorized immigrants. Is it true that some people who illegally cross the border from Mexico are good? Yes. Is it true that some others commit crimes? Yes. Is that a problem? People disagree. Some conjecture that unauthorized immigrants don\\u2019t commit more crimes than U.S. citizens. But crimes by unauthorized immigrants, even murders, would not have happened if those individuals had not entered the U.S.\\n\\nTime for a disclosure. I was born and raised in Puerto Rico. Spanish is my first language. I voted for Obama. I live in liberal Austin, Texas, where I work as a tenured professor of history. I\\u2019ve never voted for a Republican. My preferred candidate for U.S. president would be Elizabeth Warren. Since she is not running, my preferred candidate is Bernie Sanders.\\n\\nAnyhow, discussions about illegal immigration are ruined by lack of data. I asked my friends, university faculty: \\u201cHow many people do you think are deported per year in the U.S.?\\u201d\\n\\nThere are two kinds of deportations: some are caught near the border and \\u201creturned,\\u201d others are \\u201cremoved\\u201d by a court order. Consider the border patrol agents, personnel, the bureaucracy, the lawyers, the resources needed to find people and deport them. How many were deported in 2014?\\n\\nOne of my friends guessed 3,000. Another guessed 10,000. Another guessed 50,000\\u2014which would really be a lot of people, imagine.\\n\\nActually, in fiscal year 2014, the U.S. deported a total of 893,238 foreigners! That\\u2019s a huge number. It includes 577,295 deported by the Department of Homeland Security, plus 315,943 deported by Immigration and Customs Enforcement. Among the latter, 2,802 were classified as suspected or confirmed gang members.\\n\\nSince 1990, the average is 1.2 million deportations per year. The highest in U.S. history was 1.86 million foreigners deported in the year 2000. That\\u2019s astonishing.\\n\\nHow many were criminals?\\n\\nWe don\\u2019t know because most criminals are not caught. Plus, many who are accused are not convicted because of a lack of evidence. Still, in 2014, the U.S. deported 177,960 convicted criminals. Surprisingly, 91,037 were already convicted criminals\\u00a0before\\u00a0they even entered the\\u00a0U.S.\\n\\nAt the University of Texas at Austin, the football stadium can seat 100,119 people. I have seen it full. I\\u2019ve see more than 100,000 people at once\\u2014it\\u2019s an incredible sight. It\\u2019s a staggering swarm of people. I have seen them yelling all at once.\\n\\nIt is utterly astonishing to me that this stadium would fail to seat all the convicted criminals deported in a single year. Back to Mr. Trump. Did he unfairly single out Mexicans when complaining about crimes by unauthorized immigrants? By far, most Mexicans are good people. However, since Mexico shares a large frontier with the U.S., and many Mexicans face economic hardships, most of the reported illegal immigration into the U.S. is from Mexico. Accordingly, in recent years roughly 76% of criminal unauthorized immigrants are from Mexico. What kinds of crime? It is strangely difficult to find national statistics on homicides, sexual assaults, and thefts, by unauthorized immigrants. But there is relevant data for some states. The Texas Department of Public Safety identified 207,076 foreign aliens who were booked into Texas county jails from October 2008 through August 1, 2014. Their term \\u201cforeign aliens\\u201d includes both foreigners who are in Texas legally and foreigners who entered illegally. They were accused of 357,884 crimes in those 70 months, including these charges: 4,413 terroristic threats, 60,973 robberies and larcenies, 6,636 vehicle thefts, 78,682 assaults, 12,869 sexual assaults and offenses, 1,113 kidnapping, and 3,089 homicides. That includes, an average of 1,383 charges of sexual assaults per year, in Texas alone. The real number of rapes and sexual assaults is larger since many victims do not report these crimes. According to the National Crime and Victimization Survey, 2008-2012, approximately 68% of sexual assault crimes are not reported. So I estimate that foreigners commit roughly 4,000 sexual assaults in Texas each year. In Texas, roughly 529 foreigners per year were accused of committing murder. Plus, the FBI reports that 36% of homicides nationwide remain unsolved. These crime rates are staggering and offensive. None of the women and men who were killed in by unauthorized immigrants in Texas would have died if the murderers had not entered the U.S. illegally. These are not just words. Pause for a moment to think about a Texas woman whose husband was murdered one night. Think about parents who never saw their son again because he was murdered. Think of the thousands of families standing at the cemeteries. I\\u2019ve only summarized murders and sexual assaults. Consider drugs and drug violence. According to the Drug Enforcement Administration, most illegal drugs come from Mexico, including most cocaine and heroine. Most methamphetamines also are smuggled from Mexico. The 2015 National Drug Threat Survey finds that methamphetamines are the drugs that most contribute to property crimes and violent crimes. You get the point. There are tremendous problems of drugs, murders, and rapes caused at the porous border. Without knowing the data, it was easy to be offended by Mr. Trump\\u2019s crude words when he announced his candidacy. However, seeing the data above, I understand his concerns. Here\\u2019s what Trump said right after his words quoted above: \\u201cAnd it only makes common sense, it only makes common sense: they\\u2019re sending us not the right people, and it\\u2019s coming from more than Mexico, it\\u2019s coming from all over South and Latin America, and it\\u2019s coming probably, probably from the Middle East. But we don\\u2019t know because we have no protection, and we have no competence. We don\\u2019t know what\\u2019s happening. And it\\u2019s gotta stop. And it\\u2019s gotta stop fast.\\u201d We can disagree about some points. Is the Mexican government really sending criminals to the U.S.? On July 5, Trump said: \\u201cThe Mexican Government is forcing their most unwanted people into the United States. They are, in many cases, criminals, drug dealers, rapists, etc.\\u201d This claim might be false if Mexico does not intentionally send criminals to the US. At its best, this statement seems plausible if Trump meant that conditions generated in Mexico by its government lead some criminals to the U.S. In any case, Trump proposes to secure the southern border by implementing various security measures. His most recurring proposal is to build a wall, along areas of the border lacking natural barriers. His proposal has been widely criticized. Some people construed it as a sign of racism, xenophobia, etc. However, I can understand why many of Trump\\u2019s followers actually cheer: \\u201cBuild the Wall! Build the Wall!\\u201d First, there are the worries about murders, drugs, crimes, and terrorism. Presently, countless many unauthorized immigrants walk into the country, unchecked. In fiscal year 2014, the Border Patrol made 468,407 apprehensions along the southwest border. By comparison, the Border Patrol only made 18,244 apprehensions in all other regions. But one point sticks in my mind. Namely this: there already exist a long series of fences and walls between Mexico and the U.S. These fences and walls span parts of California, Arizona, New Mexico, and Texas. As of early 2012, the Department of Homeland Security had completed 652 miles of fences and walls. Trump did not build all that. It was mandated by Congress. Walls are common along\\u00a0many countries\\u2019 borders, such as Spain, China, France, Greece, Pakistan,\\u00a0Israel, etc. The border between the U.S. and Mexico spans roughly 1,950 miles. Trump wants a wall that will be 1,000 miles long, including areas already covered. I\\u2019m not trying to convince you about a wall. My point is just that it\\u2019s neither impossible nor ridiculous. A main reason why many border areas have fences instead of walls is just that walls are more expensive. Trump says that everyone who didn\\u2019t enter the U.S. legally should return to their countries. \\u201cThey have to go.\\u201d We might well disagree. But his view is closer to Immigration law. If you prefer amnesty then lawmakers have to create a law to that effect. Trump insists: \\u201cI want people to come in, but they have to come in legally.\\u201d Regardless, countless many people think that Trump is racist against Mexicans. I suggest that anyone who thinks that should count how many times Trump has praised Mexicans. Most unauthorized immigrants are good people. But still, the media wrongly blamed Mr. Trump for their own misrepresentations.\"\n        ],\n        \"semantic_type\": \"\",\n        \"description\": \"\"\n      }\n    },\n    {\n      \"column\": \"label\",\n      \"properties\": {\n        \"dtype\": \"number\",\n        \"std\": 0,\n        \"min\": 1,\n        \"max\": 1,\n        \"num_unique_values\": 1,\n        \"samples\": [\n          1\n        ],\n        \"semantic_type\": \"\",\n        \"description\": \"\"\n      }\n    }\n  ]\n}",
              "type": "dataframe",
              "variable_name": "true_df"
            },
            "text/html": [
              "\n",
              "  <div id=\"df-c1f8d18a-43d5-4e57-8e2a-69a30fe462da\" class=\"colab-df-container\">\n",
              "    <div>\n",
              "<style scoped>\n",
              "    .dataframe tbody tr th:only-of-type {\n",
              "        vertical-align: middle;\n",
              "    }\n",
              "\n",
              "    .dataframe tbody tr th {\n",
              "        vertical-align: top;\n",
              "    }\n",
              "\n",
              "    .dataframe thead th {\n",
              "        text-align: right;\n",
              "    }\n",
              "</style>\n",
              "<table border=\"1\" class=\"dataframe\">\n",
              "  <thead>\n",
              "    <tr style=\"text-align: right;\">\n",
              "      <th></th>\n",
              "      <th>text</th>\n",
              "      <th>label</th>\n",
              "    </tr>\n",
              "  </thead>\n",
              "  <tbody>\n",
              "    <tr>\n",
              "      <th>0</th>\n",
              "      <td>The head of a conservative Republican faction ...</td>\n",
              "      <td>1</td>\n",
              "    </tr>\n",
              "    <tr>\n",
              "      <th>1</th>\n",
              "      <td>Transgender people will be allowed for the fir...</td>\n",
              "      <td>1</td>\n",
              "    </tr>\n",
              "    <tr>\n",
              "      <th>2</th>\n",
              "      <td>The special counsel investigation of links bet...</td>\n",
              "      <td>1</td>\n",
              "    </tr>\n",
              "    <tr>\n",
              "      <th>3</th>\n",
              "      <td>Trump campaign adviser George Papadopoulos tol...</td>\n",
              "      <td>1</td>\n",
              "    </tr>\n",
              "    <tr>\n",
              "      <th>4</th>\n",
              "      <td>President Donald Trump called on the U.S. Post...</td>\n",
              "      <td>1</td>\n",
              "    </tr>\n",
              "  </tbody>\n",
              "</table>\n",
              "</div>\n",
              "    <div class=\"colab-df-buttons\">\n",
              "\n",
              "  <div class=\"colab-df-container\">\n",
              "    <button class=\"colab-df-convert\" onclick=\"convertToInteractive('df-c1f8d18a-43d5-4e57-8e2a-69a30fe462da')\"\n",
              "            title=\"Convert this dataframe to an interactive table.\"\n",
              "            style=\"display:none;\">\n",
              "\n",
              "  <svg xmlns=\"http://www.w3.org/2000/svg\" height=\"24px\" viewBox=\"0 -960 960 960\">\n",
              "    <path d=\"M120-120v-720h720v720H120Zm60-500h600v-160H180v160Zm220 220h160v-160H400v160Zm0 220h160v-160H400v160ZM180-400h160v-160H180v160Zm440 0h160v-160H620v160ZM180-180h160v-160H180v160Zm440 0h160v-160H620v160Z\"/>\n",
              "  </svg>\n",
              "    </button>\n",
              "\n",
              "  <style>\n",
              "    .colab-df-container {\n",
              "      display:flex;\n",
              "      gap: 12px;\n",
              "    }\n",
              "\n",
              "    .colab-df-convert {\n",
              "      background-color: #E8F0FE;\n",
              "      border: none;\n",
              "      border-radius: 50%;\n",
              "      cursor: pointer;\n",
              "      display: none;\n",
              "      fill: #1967D2;\n",
              "      height: 32px;\n",
              "      padding: 0 0 0 0;\n",
              "      width: 32px;\n",
              "    }\n",
              "\n",
              "    .colab-df-convert:hover {\n",
              "      background-color: #E2EBFA;\n",
              "      box-shadow: 0px 1px 2px rgba(60, 64, 67, 0.3), 0px 1px 3px 1px rgba(60, 64, 67, 0.15);\n",
              "      fill: #174EA6;\n",
              "    }\n",
              "\n",
              "    .colab-df-buttons div {\n",
              "      margin-bottom: 4px;\n",
              "    }\n",
              "\n",
              "    [theme=dark] .colab-df-convert {\n",
              "      background-color: #3B4455;\n",
              "      fill: #D2E3FC;\n",
              "    }\n",
              "\n",
              "    [theme=dark] .colab-df-convert:hover {\n",
              "      background-color: #434B5C;\n",
              "      box-shadow: 0px 1px 3px 1px rgba(0, 0, 0, 0.15);\n",
              "      filter: drop-shadow(0px 1px 2px rgba(0, 0, 0, 0.3));\n",
              "      fill: #FFFFFF;\n",
              "    }\n",
              "  </style>\n",
              "\n",
              "    <script>\n",
              "      const buttonEl =\n",
              "        document.querySelector('#df-c1f8d18a-43d5-4e57-8e2a-69a30fe462da button.colab-df-convert');\n",
              "      buttonEl.style.display =\n",
              "        google.colab.kernel.accessAllowed ? 'block' : 'none';\n",
              "\n",
              "      async function convertToInteractive(key) {\n",
              "        const element = document.querySelector('#df-c1f8d18a-43d5-4e57-8e2a-69a30fe462da');\n",
              "        const dataTable =\n",
              "          await google.colab.kernel.invokeFunction('convertToInteractive',\n",
              "                                                    [key], {});\n",
              "        if (!dataTable) return;\n",
              "\n",
              "        const docLinkHtml = 'Like what you see? Visit the ' +\n",
              "          '<a target=\"_blank\" href=https://colab.research.google.com/notebooks/data_table.ipynb>data table notebook</a>'\n",
              "          + ' to learn more about interactive tables.';\n",
              "        element.innerHTML = '';\n",
              "        dataTable['output_type'] = 'display_data';\n",
              "        await google.colab.output.renderOutput(dataTable, element);\n",
              "        const docLink = document.createElement('div');\n",
              "        docLink.innerHTML = docLinkHtml;\n",
              "        element.appendChild(docLink);\n",
              "      }\n",
              "    </script>\n",
              "  </div>\n",
              "\n",
              "\n",
              "    <div id=\"df-3a695d7a-3bb8-4423-9c7c-4a7a86a28538\">\n",
              "      <button class=\"colab-df-quickchart\" onclick=\"quickchart('df-3a695d7a-3bb8-4423-9c7c-4a7a86a28538')\"\n",
              "                title=\"Suggest charts\"\n",
              "                style=\"display:none;\">\n",
              "\n",
              "<svg xmlns=\"http://www.w3.org/2000/svg\" height=\"24px\"viewBox=\"0 0 24 24\"\n",
              "     width=\"24px\">\n",
              "    <g>\n",
              "        <path d=\"M19 3H5c-1.1 0-2 .9-2 2v14c0 1.1.9 2 2 2h14c1.1 0 2-.9 2-2V5c0-1.1-.9-2-2-2zM9 17H7v-7h2v7zm4 0h-2V7h2v10zm4 0h-2v-4h2v4z\"/>\n",
              "    </g>\n",
              "</svg>\n",
              "      </button>\n",
              "\n",
              "<style>\n",
              "  .colab-df-quickchart {\n",
              "      --bg-color: #E8F0FE;\n",
              "      --fill-color: #1967D2;\n",
              "      --hover-bg-color: #E2EBFA;\n",
              "      --hover-fill-color: #174EA6;\n",
              "      --disabled-fill-color: #AAA;\n",
              "      --disabled-bg-color: #DDD;\n",
              "  }\n",
              "\n",
              "  [theme=dark] .colab-df-quickchart {\n",
              "      --bg-color: #3B4455;\n",
              "      --fill-color: #D2E3FC;\n",
              "      --hover-bg-color: #434B5C;\n",
              "      --hover-fill-color: #FFFFFF;\n",
              "      --disabled-bg-color: #3B4455;\n",
              "      --disabled-fill-color: #666;\n",
              "  }\n",
              "\n",
              "  .colab-df-quickchart {\n",
              "    background-color: var(--bg-color);\n",
              "    border: none;\n",
              "    border-radius: 50%;\n",
              "    cursor: pointer;\n",
              "    display: none;\n",
              "    fill: var(--fill-color);\n",
              "    height: 32px;\n",
              "    padding: 0;\n",
              "    width: 32px;\n",
              "  }\n",
              "\n",
              "  .colab-df-quickchart:hover {\n",
              "    background-color: var(--hover-bg-color);\n",
              "    box-shadow: 0 1px 2px rgba(60, 64, 67, 0.3), 0 1px 3px 1px rgba(60, 64, 67, 0.15);\n",
              "    fill: var(--button-hover-fill-color);\n",
              "  }\n",
              "\n",
              "  .colab-df-quickchart-complete:disabled,\n",
              "  .colab-df-quickchart-complete:disabled:hover {\n",
              "    background-color: var(--disabled-bg-color);\n",
              "    fill: var(--disabled-fill-color);\n",
              "    box-shadow: none;\n",
              "  }\n",
              "\n",
              "  .colab-df-spinner {\n",
              "    border: 2px solid var(--fill-color);\n",
              "    border-color: transparent;\n",
              "    border-bottom-color: var(--fill-color);\n",
              "    animation:\n",
              "      spin 1s steps(1) infinite;\n",
              "  }\n",
              "\n",
              "  @keyframes spin {\n",
              "    0% {\n",
              "      border-color: transparent;\n",
              "      border-bottom-color: var(--fill-color);\n",
              "      border-left-color: var(--fill-color);\n",
              "    }\n",
              "    20% {\n",
              "      border-color: transparent;\n",
              "      border-left-color: var(--fill-color);\n",
              "      border-top-color: var(--fill-color);\n",
              "    }\n",
              "    30% {\n",
              "      border-color: transparent;\n",
              "      border-left-color: var(--fill-color);\n",
              "      border-top-color: var(--fill-color);\n",
              "      border-right-color: var(--fill-color);\n",
              "    }\n",
              "    40% {\n",
              "      border-color: transparent;\n",
              "      border-right-color: var(--fill-color);\n",
              "      border-top-color: var(--fill-color);\n",
              "    }\n",
              "    60% {\n",
              "      border-color: transparent;\n",
              "      border-right-color: var(--fill-color);\n",
              "    }\n",
              "    80% {\n",
              "      border-color: transparent;\n",
              "      border-right-color: var(--fill-color);\n",
              "      border-bottom-color: var(--fill-color);\n",
              "    }\n",
              "    90% {\n",
              "      border-color: transparent;\n",
              "      border-bottom-color: var(--fill-color);\n",
              "    }\n",
              "  }\n",
              "</style>\n",
              "\n",
              "      <script>\n",
              "        async function quickchart(key) {\n",
              "          const quickchartButtonEl =\n",
              "            document.querySelector('#' + key + ' button');\n",
              "          quickchartButtonEl.disabled = true;  // To prevent multiple clicks.\n",
              "          quickchartButtonEl.classList.add('colab-df-spinner');\n",
              "          try {\n",
              "            const charts = await google.colab.kernel.invokeFunction(\n",
              "                'suggestCharts', [key], {});\n",
              "          } catch (error) {\n",
              "            console.error('Error during call to suggestCharts:', error);\n",
              "          }\n",
              "          quickchartButtonEl.classList.remove('colab-df-spinner');\n",
              "          quickchartButtonEl.classList.add('colab-df-quickchart-complete');\n",
              "        }\n",
              "        (() => {\n",
              "          let quickchartButtonEl =\n",
              "            document.querySelector('#df-3a695d7a-3bb8-4423-9c7c-4a7a86a28538 button');\n",
              "          quickchartButtonEl.style.display =\n",
              "            google.colab.kernel.accessAllowed ? 'block' : 'none';\n",
              "        })();\n",
              "      </script>\n",
              "    </div>\n",
              "\n",
              "    </div>\n",
              "  </div>\n"
            ],
            "text/plain": [
              "                                                text  label\n",
              "0  The head of a conservative Republican faction ...      1\n",
              "1  Transgender people will be allowed for the fir...      1\n",
              "2  The special counsel investigation of links bet...      1\n",
              "3  Trump campaign adviser George Papadopoulos tol...      1\n",
              "4  President Donald Trump called on the U.S. Post...      1"
            ]
          },
          "execution_count": 9,
          "metadata": {},
          "output_type": "execute_result"
        }
      ],
      "source": [
        "true_df.drop(['Unnamed: 0'], axis=1, inplace=True)\n",
        "true_df['label'] = 1\n",
        "true_df.head()"
      ]
    },
    {
      "cell_type": "code",
      "execution_count": null,
      "metadata": {
        "colab": {
          "base_uri": "https://localhost:8080/",
          "height": 206
        },
        "execution": {
          "iopub.execute_input": "2025-06-19T06:03:08.375964Z",
          "iopub.status.busy": "2025-06-19T06:03:08.375728Z",
          "iopub.status.idle": "2025-06-19T06:03:08.384962Z",
          "shell.execute_reply": "2025-06-19T06:03:08.384234Z",
          "shell.execute_reply.started": "2025-06-19T06:03:08.375939Z"
        },
        "id": "tm_0HyqKPIKW",
        "outputId": "8e7e4472-cf23-4445-d8b2-9f4395b24c7a"
      },
      "outputs": [
        {
          "data": {
            "application/vnd.google.colaboratory.intrinsic+json": {
              "summary": "{\n  \"name\": \"fake_df\",\n  \"rows\": 43642,\n  \"fields\": [\n    {\n      \"column\": \"text\",\n      \"properties\": {\n        \"dtype\": \"string\",\n        \"num_unique_values\": 34078,\n        \"samples\": [\n          \"At this point, hearing that there has been violent attacks at rallies held by GOP presidential frontrunner Donald Trump is hardly surprising. His supporters are notoriously fanatical, and woe betide anyone who gets on their bad side   especially when they are all riled up and in the midst of listening to another blistering speech by the leader they look up to so much. So, to that end, here we are again, reading another news cycle of things gone awry at yet another Trump rally, this time in Tucson, Arizona.It appears that, as is par for the course at Trump events these days, there were bunches of protesters. Cell phone video has been making the rounds on social media that shows a man, apparently a protester, being brutally attacked by Trump s brute-like supporters. First, it appears that the man is punched, and then, when he is actually on the ground, he is stomped and kicked, until the authorities show up and break up the altercation.All the while, Trump continues to speak, making his already volatile crowd even more so. Here is the video, as tweeted out by NBC reporter Frank Thorp:VIOLENCE at another Donald Trump rally, this time in Tucson, AZ. Man hits and kicks protester: pic.twitter.com/7FWuSeE0Jt  Frank Thorp V (@frankthorpNBC) March 19, 2016And here is another video that seemingly shows Trump s own campaign manager roughing up a protester:Here is Donald Trump's campaign manager in the Tucson crowd grabbing the collar of a protester. pic.twitter.com/JZ9RntWlHY  Jacqueline Alemany (@JaxAlemany) March 19, 2016It should be damn frightening to ANYONE that the presidential frontrunner of a major American political party sincerely not only believes that this behavior is okay, but actively encourages it. This, ladies and gentlemen, is Donald Trump s America. Be afraid. Be very afraid.Featured image via video screen capture via Twitter\",\n          \"The US secret services have latched onto the fairy tales of Russian hackers and trolls in part to divert attention from the eavesdropping on [former President of\\u00a0 Brazil Dilma] Rousseff and others.\",\n          \"George Takei has been on a social media role since the start of the Trump era, providing astute commentary with a brilliant wit that has made him beloved to millions. His latest Twitter poem   something he does fairly often   might be one of my favorite posts of his yet.Here it is:The crisis has grown very direTrump threatens with fury and fireSo before war's begunAgainst Kim Jong-unWe'd better make Donnie retire  George Takei (@GeorgeTakei) August 9, 2017 The crisis has grown very dire Trump threatens with fury and fire So war s begun Against Kim Jong-un We d better make Donnie retire I d say we re all thinking something pretty similar! Or, at least, according to the latest polling, an overwhelming majority of us are (sorry Trump fans, but those are the facts).Here are a few of his other latest Twitter poems:You tweet us ad nauseumMueller's not tricked cause of 'emSo tweet your memoirsDuring years behind barsYou no doubt'll serve lots of 'em  George Takei (@GeorgeTakei) August 8, 2017Happy Bday oh dearest ObamaThanks for 8 yrs of no dramaFor your wisdom and strengthFor sparing no lengthAnd no daily national trauma  George Takei (@GeorgeTakei) August 5, 2017Things just went south in a hurryNow that they've sat a grand jurySubpoenas galoreI've popcorn. Want more?As karma unleashes its fury.  George Takei (@GeorgeTakei) August 4, 2017Putin tried this n that hackeeInstalling a personal lackeyIt's since come to passWe sanctioned his assWhile Trump is increasingly wacky  George Takei (@GeorgeTakei) August 2, 2017Keep it up, George! You can bet it pisses Trump off every time he sees one, considering how thin his skin is.Read more:Featured image via Stephen Lovekin/Getty Images for GLAAD\"\n        ],\n        \"semantic_type\": \"\",\n        \"description\": \"\"\n      }\n    },\n    {\n      \"column\": \"label\",\n      \"properties\": {\n        \"dtype\": \"number\",\n        \"std\": 0,\n        \"min\": 0,\n        \"max\": 0,\n        \"num_unique_values\": 1,\n        \"samples\": [\n          0\n        ],\n        \"semantic_type\": \"\",\n        \"description\": \"\"\n      }\n    }\n  ]\n}",
              "type": "dataframe",
              "variable_name": "fake_df"
            },
            "text/html": [
              "\n",
              "  <div id=\"df-cc8245a3-023b-4cd0-977a-4b2401edfca9\" class=\"colab-df-container\">\n",
              "    <div>\n",
              "<style scoped>\n",
              "    .dataframe tbody tr th:only-of-type {\n",
              "        vertical-align: middle;\n",
              "    }\n",
              "\n",
              "    .dataframe tbody tr th {\n",
              "        vertical-align: top;\n",
              "    }\n",
              "\n",
              "    .dataframe thead th {\n",
              "        text-align: right;\n",
              "    }\n",
              "</style>\n",
              "<table border=\"1\" class=\"dataframe\">\n",
              "  <thead>\n",
              "    <tr style=\"text-align: right;\">\n",
              "      <th></th>\n",
              "      <th>text</th>\n",
              "      <th>label</th>\n",
              "    </tr>\n",
              "  </thead>\n",
              "  <tbody>\n",
              "    <tr>\n",
              "      <th>0</th>\n",
              "      <td>Donald Trump just couldn t wish all Americans ...</td>\n",
              "      <td>0</td>\n",
              "    </tr>\n",
              "    <tr>\n",
              "      <th>1</th>\n",
              "      <td>House Intelligence Committee Chairman Devin Nu...</td>\n",
              "      <td>0</td>\n",
              "    </tr>\n",
              "    <tr>\n",
              "      <th>2</th>\n",
              "      <td>On Friday, it was revealed that former Milwauk...</td>\n",
              "      <td>0</td>\n",
              "    </tr>\n",
              "    <tr>\n",
              "      <th>3</th>\n",
              "      <td>On Christmas day, Donald Trump announced that ...</td>\n",
              "      <td>0</td>\n",
              "    </tr>\n",
              "    <tr>\n",
              "      <th>4</th>\n",
              "      <td>Pope Francis used his annual Christmas Day mes...</td>\n",
              "      <td>0</td>\n",
              "    </tr>\n",
              "  </tbody>\n",
              "</table>\n",
              "</div>\n",
              "    <div class=\"colab-df-buttons\">\n",
              "\n",
              "  <div class=\"colab-df-container\">\n",
              "    <button class=\"colab-df-convert\" onclick=\"convertToInteractive('df-cc8245a3-023b-4cd0-977a-4b2401edfca9')\"\n",
              "            title=\"Convert this dataframe to an interactive table.\"\n",
              "            style=\"display:none;\">\n",
              "\n",
              "  <svg xmlns=\"http://www.w3.org/2000/svg\" height=\"24px\" viewBox=\"0 -960 960 960\">\n",
              "    <path d=\"M120-120v-720h720v720H120Zm60-500h600v-160H180v160Zm220 220h160v-160H400v160Zm0 220h160v-160H400v160ZM180-400h160v-160H180v160Zm440 0h160v-160H620v160ZM180-180h160v-160H180v160Zm440 0h160v-160H620v160Z\"/>\n",
              "  </svg>\n",
              "    </button>\n",
              "\n",
              "  <style>\n",
              "    .colab-df-container {\n",
              "      display:flex;\n",
              "      gap: 12px;\n",
              "    }\n",
              "\n",
              "    .colab-df-convert {\n",
              "      background-color: #E8F0FE;\n",
              "      border: none;\n",
              "      border-radius: 50%;\n",
              "      cursor: pointer;\n",
              "      display: none;\n",
              "      fill: #1967D2;\n",
              "      height: 32px;\n",
              "      padding: 0 0 0 0;\n",
              "      width: 32px;\n",
              "    }\n",
              "\n",
              "    .colab-df-convert:hover {\n",
              "      background-color: #E2EBFA;\n",
              "      box-shadow: 0px 1px 2px rgba(60, 64, 67, 0.3), 0px 1px 3px 1px rgba(60, 64, 67, 0.15);\n",
              "      fill: #174EA6;\n",
              "    }\n",
              "\n",
              "    .colab-df-buttons div {\n",
              "      margin-bottom: 4px;\n",
              "    }\n",
              "\n",
              "    [theme=dark] .colab-df-convert {\n",
              "      background-color: #3B4455;\n",
              "      fill: #D2E3FC;\n",
              "    }\n",
              "\n",
              "    [theme=dark] .colab-df-convert:hover {\n",
              "      background-color: #434B5C;\n",
              "      box-shadow: 0px 1px 3px 1px rgba(0, 0, 0, 0.15);\n",
              "      filter: drop-shadow(0px 1px 2px rgba(0, 0, 0, 0.3));\n",
              "      fill: #FFFFFF;\n",
              "    }\n",
              "  </style>\n",
              "\n",
              "    <script>\n",
              "      const buttonEl =\n",
              "        document.querySelector('#df-cc8245a3-023b-4cd0-977a-4b2401edfca9 button.colab-df-convert');\n",
              "      buttonEl.style.display =\n",
              "        google.colab.kernel.accessAllowed ? 'block' : 'none';\n",
              "\n",
              "      async function convertToInteractive(key) {\n",
              "        const element = document.querySelector('#df-cc8245a3-023b-4cd0-977a-4b2401edfca9');\n",
              "        const dataTable =\n",
              "          await google.colab.kernel.invokeFunction('convertToInteractive',\n",
              "                                                    [key], {});\n",
              "        if (!dataTable) return;\n",
              "\n",
              "        const docLinkHtml = 'Like what you see? Visit the ' +\n",
              "          '<a target=\"_blank\" href=https://colab.research.google.com/notebooks/data_table.ipynb>data table notebook</a>'\n",
              "          + ' to learn more about interactive tables.';\n",
              "        element.innerHTML = '';\n",
              "        dataTable['output_type'] = 'display_data';\n",
              "        await google.colab.output.renderOutput(dataTable, element);\n",
              "        const docLink = document.createElement('div');\n",
              "        docLink.innerHTML = docLinkHtml;\n",
              "        element.appendChild(docLink);\n",
              "      }\n",
              "    </script>\n",
              "  </div>\n",
              "\n",
              "\n",
              "    <div id=\"df-00424cf1-8698-43d5-a983-c92554b2fd03\">\n",
              "      <button class=\"colab-df-quickchart\" onclick=\"quickchart('df-00424cf1-8698-43d5-a983-c92554b2fd03')\"\n",
              "                title=\"Suggest charts\"\n",
              "                style=\"display:none;\">\n",
              "\n",
              "<svg xmlns=\"http://www.w3.org/2000/svg\" height=\"24px\"viewBox=\"0 0 24 24\"\n",
              "     width=\"24px\">\n",
              "    <g>\n",
              "        <path d=\"M19 3H5c-1.1 0-2 .9-2 2v14c0 1.1.9 2 2 2h14c1.1 0 2-.9 2-2V5c0-1.1-.9-2-2-2zM9 17H7v-7h2v7zm4 0h-2V7h2v10zm4 0h-2v-4h2v4z\"/>\n",
              "    </g>\n",
              "</svg>\n",
              "      </button>\n",
              "\n",
              "<style>\n",
              "  .colab-df-quickchart {\n",
              "      --bg-color: #E8F0FE;\n",
              "      --fill-color: #1967D2;\n",
              "      --hover-bg-color: #E2EBFA;\n",
              "      --hover-fill-color: #174EA6;\n",
              "      --disabled-fill-color: #AAA;\n",
              "      --disabled-bg-color: #DDD;\n",
              "  }\n",
              "\n",
              "  [theme=dark] .colab-df-quickchart {\n",
              "      --bg-color: #3B4455;\n",
              "      --fill-color: #D2E3FC;\n",
              "      --hover-bg-color: #434B5C;\n",
              "      --hover-fill-color: #FFFFFF;\n",
              "      --disabled-bg-color: #3B4455;\n",
              "      --disabled-fill-color: #666;\n",
              "  }\n",
              "\n",
              "  .colab-df-quickchart {\n",
              "    background-color: var(--bg-color);\n",
              "    border: none;\n",
              "    border-radius: 50%;\n",
              "    cursor: pointer;\n",
              "    display: none;\n",
              "    fill: var(--fill-color);\n",
              "    height: 32px;\n",
              "    padding: 0;\n",
              "    width: 32px;\n",
              "  }\n",
              "\n",
              "  .colab-df-quickchart:hover {\n",
              "    background-color: var(--hover-bg-color);\n",
              "    box-shadow: 0 1px 2px rgba(60, 64, 67, 0.3), 0 1px 3px 1px rgba(60, 64, 67, 0.15);\n",
              "    fill: var(--button-hover-fill-color);\n",
              "  }\n",
              "\n",
              "  .colab-df-quickchart-complete:disabled,\n",
              "  .colab-df-quickchart-complete:disabled:hover {\n",
              "    background-color: var(--disabled-bg-color);\n",
              "    fill: var(--disabled-fill-color);\n",
              "    box-shadow: none;\n",
              "  }\n",
              "\n",
              "  .colab-df-spinner {\n",
              "    border: 2px solid var(--fill-color);\n",
              "    border-color: transparent;\n",
              "    border-bottom-color: var(--fill-color);\n",
              "    animation:\n",
              "      spin 1s steps(1) infinite;\n",
              "  }\n",
              "\n",
              "  @keyframes spin {\n",
              "    0% {\n",
              "      border-color: transparent;\n",
              "      border-bottom-color: var(--fill-color);\n",
              "      border-left-color: var(--fill-color);\n",
              "    }\n",
              "    20% {\n",
              "      border-color: transparent;\n",
              "      border-left-color: var(--fill-color);\n",
              "      border-top-color: var(--fill-color);\n",
              "    }\n",
              "    30% {\n",
              "      border-color: transparent;\n",
              "      border-left-color: var(--fill-color);\n",
              "      border-top-color: var(--fill-color);\n",
              "      border-right-color: var(--fill-color);\n",
              "    }\n",
              "    40% {\n",
              "      border-color: transparent;\n",
              "      border-right-color: var(--fill-color);\n",
              "      border-top-color: var(--fill-color);\n",
              "    }\n",
              "    60% {\n",
              "      border-color: transparent;\n",
              "      border-right-color: var(--fill-color);\n",
              "    }\n",
              "    80% {\n",
              "      border-color: transparent;\n",
              "      border-right-color: var(--fill-color);\n",
              "      border-bottom-color: var(--fill-color);\n",
              "    }\n",
              "    90% {\n",
              "      border-color: transparent;\n",
              "      border-bottom-color: var(--fill-color);\n",
              "    }\n",
              "  }\n",
              "</style>\n",
              "\n",
              "      <script>\n",
              "        async function quickchart(key) {\n",
              "          const quickchartButtonEl =\n",
              "            document.querySelector('#' + key + ' button');\n",
              "          quickchartButtonEl.disabled = true;  // To prevent multiple clicks.\n",
              "          quickchartButtonEl.classList.add('colab-df-spinner');\n",
              "          try {\n",
              "            const charts = await google.colab.kernel.invokeFunction(\n",
              "                'suggestCharts', [key], {});\n",
              "          } catch (error) {\n",
              "            console.error('Error during call to suggestCharts:', error);\n",
              "          }\n",
              "          quickchartButtonEl.classList.remove('colab-df-spinner');\n",
              "          quickchartButtonEl.classList.add('colab-df-quickchart-complete');\n",
              "        }\n",
              "        (() => {\n",
              "          let quickchartButtonEl =\n",
              "            document.querySelector('#df-00424cf1-8698-43d5-a983-c92554b2fd03 button');\n",
              "          quickchartButtonEl.style.display =\n",
              "            google.colab.kernel.accessAllowed ? 'block' : 'none';\n",
              "        })();\n",
              "      </script>\n",
              "    </div>\n",
              "\n",
              "    </div>\n",
              "  </div>\n"
            ],
            "text/plain": [
              "                                                text  label\n",
              "0  Donald Trump just couldn t wish all Americans ...      0\n",
              "1  House Intelligence Committee Chairman Devin Nu...      0\n",
              "2  On Friday, it was revealed that former Milwauk...      0\n",
              "3  On Christmas day, Donald Trump announced that ...      0\n",
              "4  Pope Francis used his annual Christmas Day mes...      0"
            ]
          },
          "execution_count": 10,
          "metadata": {},
          "output_type": "execute_result"
        }
      ],
      "source": [
        "fake_df.drop(['Unnamed: 0'], axis=1, inplace=True)\n",
        "fake_df['label'] = 0\n",
        "fake_df.head()"
      ]
    },
    {
      "cell_type": "markdown",
      "metadata": {
        "id": "cQAvZ5w6GeGt"
      },
      "source": [
        "-  Then, I removed any rows with missing values."
      ]
    },
    {
      "cell_type": "code",
      "execution_count": null,
      "metadata": {
        "colab": {
          "base_uri": "https://localhost:8080/"
        },
        "execution": {
          "iopub.execute_input": "2025-06-19T06:03:08.409703Z",
          "iopub.status.busy": "2025-06-19T06:03:08.409243Z",
          "iopub.status.idle": "2025-06-19T06:03:08.435091Z",
          "shell.execute_reply": "2025-06-19T06:03:08.434633Z",
          "shell.execute_reply.started": "2025-06-19T06:03:08.409686Z"
        },
        "id": "f3pDfk3GQc0q",
        "outputId": "fdfe2fb2-8205-4410-ce9b-8040b75a1a9f"
      },
      "outputs": [
        {
          "name": "stdout",
          "output_type": "stream",
          "text": [
            "Counts of Null rows: \n",
            " text     29\n",
            "label     0\n",
            "dtype: int64\n",
            "<class 'pandas.core.frame.DataFrame'>\n",
            "Index: 78588 entries, 0 to 78616\n",
            "Data columns (total 2 columns):\n",
            " #   Column  Non-Null Count  Dtype \n",
            "---  ------  --------------  ----- \n",
            " 0   text    78588 non-null  object\n",
            " 1   label   78588 non-null  int64 \n",
            "dtypes: int64(1), object(1)\n",
            "memory usage: 1.8+ MB\n"
          ]
        }
      ],
      "source": [
        "df = shuffle(pd.concat([true_df, fake_df]), random_state = RANDOM_STATE).reset_index(drop=True)\n",
        "print(f\"Counts of Null rows: \\n {df.isnull().sum()}\")\n",
        "\n",
        "df.dropna(inplace = True)\n",
        "df.info()"
      ]
    },
    {
      "cell_type": "markdown",
      "metadata": {
        "id": "IpzTABfuF2jM"
      },
      "source": [
        "### Cleaning text\n",
        "- I used stemming and removed stopwords, as well as unusual words such as URLs and special tokens."
      ]
    },
    {
      "cell_type": "code",
      "execution_count": null,
      "metadata": {
        "colab": {
          "base_uri": "https://localhost:8080/"
        },
        "execution": {
          "iopub.execute_input": "2025-06-19T06:03:08.491683Z",
          "iopub.status.busy": "2025-06-19T06:03:08.491021Z",
          "iopub.status.idle": "2025-06-19T06:04:13.196104Z",
          "shell.execute_reply": "2025-06-19T06:04:13.194931Z",
          "shell.execute_reply.started": "2025-06-19T06:03:08.491666Z"
        },
        "id": "otp_izWtEYkX",
        "outputId": "37d91b05-34ff-48ee-843a-d20e8cf6ff89"
      },
      "outputs": [
        {
          "name": "stderr",
          "output_type": "stream",
          "text": [
            "[nltk_data] Downloading package punkt_tab to /root/nltk_data...\n",
            "[nltk_data]   Unzipping tokenizers/punkt_tab.zip.\n",
            "[nltk_data] Downloading package stopwords to /root/nltk_data...\n",
            "[nltk_data]   Unzipping corpora/stopwords.zip.\n"
          ]
        }
      ],
      "source": [
        "import nltk\n",
        "nltk.download('punkt_tab')\n",
        "nltk.download('stopwords')\n",
        "from nltk.corpus import stopwords\n",
        "from nltk.tokenize import RegexpTokenizer\n",
        "from nltk.stem import PorterStemmer\n",
        "from nltk.tokenize import sent_tokenize\n",
        "import re"
      ]
    },
    {
      "cell_type": "code",
      "execution_count": null,
      "metadata": {
        "execution": {
          "iopub.execute_input": "2025-06-19T07:11:15.071053Z",
          "iopub.status.busy": "2025-06-19T07:11:15.070664Z",
          "iopub.status.idle": "2025-06-19T07:11:15.078734Z",
          "shell.execute_reply": "2025-06-19T07:11:15.078129Z",
          "shell.execute_reply.started": "2025-06-19T07:11:15.071031Z"
        },
        "id": "2w9sRbLdAvZ1"
      },
      "outputs": [],
      "source": [
        "re_tokenizer = RegexpTokenizer(r'\\w+')\n",
        "stopwords_english = set(stopwords.words('english'))\n",
        "stemmer = PorterStemmer()\n",
        "\n",
        "def clean_sentence(sentence):\n",
        "    sentence = sentence.lower()  # Convert to lowercase\n",
        "    sentence = re.sub('\\[.*?\\]', '', sentence)  # Remove square brackets\n",
        "    sentence = re.sub(\"\\\\W\", \" \", sentence)  # Remove non-word characters\n",
        "    sentence = re.sub('https?://\\S+|www\\.\\S+', '', sentence)  # Remove URLs\n",
        "    sentence = re.sub('<.*?>+', '', sentence)  # Remove HTML tags\n",
        "    sentence = re.sub('\\n', '', sentence)  # Remove newlines\n",
        "    sentence = re.sub('\\w*\\d\\w*', '', sentence)  # Remove words containing numbers\n",
        "\n",
        "    tokens = re_tokenizer.tokenize(sentence)\n",
        "    return [\n",
        "        stemmer.stem(word)\n",
        "        for word in tokens\n",
        "        if word not in stopwords_english\n",
        "    ]\n",
        "\n",
        "def clean_article(article):\n",
        "    result = []\n",
        "    for sentence in sent_tokenize(article):\n",
        "        result.extend(clean_sentence(sentence))\n",
        "    return result\n",
        "\n",
        "df['token_text'] = df['text'].apply(clean_article)"
      ]
    },
    {
      "cell_type": "markdown",
      "metadata": {
        "id": "FBsAxrCQ2FTs"
      },
      "source": [
        "## 2. **Exploratory Data Analysis (EDA)**:"
      ]
    },
    {
      "cell_type": "markdown",
      "metadata": {
        "id": "p88YkFpWKyUO"
      },
      "source": [
        "- Countplot for a label column"
      ]
    },
    {
      "cell_type": "code",
      "execution_count": null,
      "metadata": {
        "colab": {
          "base_uri": "https://localhost:8080/",
          "height": 487
        },
        "id": "ZU7JTATKKxLW",
        "outputId": "f14033e2-1b0a-446b-bd1b-f04a14f1cfc4"
      },
      "outputs": [
        {
          "data": {
            "image/png": "[encoded data removed]",
            "text/plain": [
              "<Figure size 800x500 with 1 Axes>"
            ]
          },
          "metadata": {},
          "output_type": "display_data"
        }
      ],
      "source": [
        "plt.figure(figsize=(8, 5))\n",
        "sns.countplot(x = 'label', data = df, palette='coolwarm')\n",
        "plt.title('Distribution of Labels')\n",
        "plt.xlabel('Label')\n",
        "plt.xticks([0, 1], ['Fake', 'True'])\n",
        "plt.ylabel('Count')\n",
        "plt.show()"
      ]
    },
    {
      "cell_type": "markdown",
      "metadata": {
        "id": "E-XNqf5ABaTg"
      },
      "source": [
        "- Histogram of text lengths shows the distribution of article lengths across the dataset."
      ]
    },
    {
      "cell_type": "code",
      "execution_count": null,
      "metadata": {
        "colab": {
          "base_uri": "https://localhost:8080/",
          "height": 564
        },
        "id": "4DBM62w3PRtZ",
        "outputId": "85e3020b-7d91-4af3-a77e-16658e9712c2"
      },
      "outputs": [
        {
          "data": {
            "image/png": "[encoded data removed]",
            "text/plain": [
              "<Figure size 1000x600 with 1 Axes>"
            ]
          },
          "metadata": {},
          "output_type": "display_data"
        }
      ],
      "source": [
        "plt.figure(figsize=(10, 6))\n",
        "plt.hist([len(x) for x in df['text']], bins = 200, edgecolor='black')\n",
        "plt.xlabel('Word Count')\n",
        "plt.ylabel('Frequency')\n",
        "plt.title('Histogram of Word Count in Data')\n",
        "plt.grid(True, alpha=0.3)\n",
        "plt.show()"
      ]
    },
    {
      "cell_type": "markdown",
      "metadata": {
        "id": "ADElgj5SBckC"
      },
      "source": [
        "- Most apperance of word in true and fake article\n",
        "\n",
        "As you can see below, the word \"Trump\" appears most frequently in both true and fake articles. Interestingly, President Trump seems to be showing up everywhere, regardless of whether the news is real or fake :)."
      ]
    },
    {
      "cell_type": "code",
      "execution_count": null,
      "metadata": {
        "execution": {
          "iopub.execute_input": "2025-06-19T06:12:11.570914Z",
          "iopub.status.busy": "2025-06-19T06:12:11.570378Z",
          "iopub.status.idle": "2025-06-19T06:12:15.097537Z",
          "shell.execute_reply": "2025-06-19T06:12:15.096959Z",
          "shell.execute_reply.started": "2025-06-19T06:12:11.570893Z"
        },
        "id": "uNgXkBAiw-B_"
      },
      "outputs": [],
      "source": [
        "from collections import Counter\n",
        "\n",
        "def get_most_common_words(text_list, n):\n",
        "    words = []\n",
        "    for tokens in text_list:\n",
        "        words.extend(tokens)\n",
        "    word_counts = Counter(words)\n",
        "    return word_counts.most_common(n)\n",
        "\n",
        "true_words = get_most_common_words(df[df['label'] == 0]['token_text'].values, 20)\n",
        "fake_words = get_most_common_words(df[df['label'] == 1]['token_text'].values, 20)\n",
        "\n",
        "true_words_df = pd.DataFrame(true_words, columns=['word', 'count'])\n",
        "fake_words_df = pd.DataFrame(fake_words, columns=['word', 'count'])"
      ]
    },
    {
      "cell_type": "code",
      "execution_count": null,
      "metadata": {
        "colab": {
          "base_uri": "https://localhost:8080/",
          "height": 564
        },
        "execution": {
          "iopub.execute_input": "2025-06-19T06:12:15.103891Z",
          "iopub.status.busy": "2025-06-19T06:12:15.103718Z",
          "iopub.status.idle": "2025-06-19T06:12:15.888435Z",
          "shell.execute_reply": "2025-06-19T06:12:15.887745Z",
          "shell.execute_reply.started": "2025-06-19T06:12:15.103877Z"
        },
        "id": "R38p1pPYIfPt",
        "outputId": "21fa664c-e891-4e18-c4f3-278ca4ad6394"
      },
      "outputs": [
        {
          "data": {
            "image/png": "[encoded data removed]",
            "text/plain": [
              "<Figure size 1000x600 with 1 Axes>"
            ]
          },
          "metadata": {},
          "output_type": "display_data"
        }
      ],
      "source": [
        "# Create bar plots for most common words\n",
        "plt.figure(figsize=(10, 6))\n",
        "sns.barplot(x='count', y='word', data=true_words_df)\n",
        "plt.title('Most Common Words in True News')\n",
        "plt.xlabel('Count')\n",
        "plt.ylabel('Word')\n",
        "plt.show()"
      ]
    },
    {
      "cell_type": "code",
      "execution_count": null,
      "metadata": {
        "colab": {
          "base_uri": "https://localhost:8080/",
          "height": 564
        },
        "execution": {
          "iopub.execute_input": "2025-06-19T06:12:15.895227Z",
          "iopub.status.busy": "2025-06-19T06:12:15.895010Z",
          "iopub.status.idle": "2025-06-19T06:12:16.124385Z",
          "shell.execute_reply": "2025-06-19T06:12:16.123739Z",
          "shell.execute_reply.started": "2025-06-19T06:12:15.895204Z"
        },
        "id": "-nXXeRxwI0Um",
        "outputId": "71f24a21-3454-4054-ae4b-66052059434c"
      },
      "outputs": [
        {
          "data": {
            "image/png": "[encoded data removed]",
            "text/plain": [
              "<Figure size 1000x600 with 1 Axes>"
            ]
          },
          "metadata": {},
          "output_type": "display_data"
        }
      ],
      "source": [
        "plt.figure(figsize=(10, 6))\n",
        "sns.barplot(x='count', y='word', data=fake_words_df)\n",
        "plt.title('Most Common Words in Fake News')\n",
        "plt.xlabel('Count')\n",
        "plt.ylabel('Word')\n",
        "plt.show()"
      ]
    },
    {
      "cell_type": "markdown",
      "metadata": {
        "id": "XR7_ILxfBgP_"
      },
      "source": [
        "- Histogram of tokenized text lengths\n",
        "\n",
        "Which is useful for determining an appropriate padding size for model training session."
      ]
    },
    {
      "cell_type": "code",
      "execution_count": null,
      "metadata": {
        "colab": {
          "base_uri": "https://localhost:8080/",
          "height": 524
        },
        "execution": {
          "iopub.execute_input": "2025-06-19T06:12:16.125434Z",
          "iopub.status.busy": "2025-06-19T06:12:16.125175Z",
          "iopub.status.idle": "2025-06-19T06:12:16.466933Z",
          "shell.execute_reply": "2025-06-19T06:12:16.466186Z",
          "shell.execute_reply.started": "2025-06-19T06:12:16.125406Z"
        },
        "id": "278wwwjo26Kp",
        "outputId": "49c36db2-e7ba-43e6-ef24-c10702167330"
      },
      "outputs": [
        {
          "name": "stdout",
          "output_type": "stream",
          "text": [
            "20917\n",
            "0\n",
            "270\n"
          ]
        },
        {
          "data": {
            "image/png": "[encoded data removed]",
            "text/plain": [
              "<Figure size 640x480 with 1 Axes>"
            ]
          },
          "metadata": {},
          "output_type": "display_data"
        }
      ],
      "source": [
        "len_X_tokenize = [len(x) for x in df['token_text'].values]\n",
        "\n",
        "print(max(len_X_tokenize))\n",
        "print(min(len_X_tokenize))\n",
        "print(round(np.mean(len_X_tokenize)))\n",
        "\n",
        "plt.hist(len_X_tokenize, bins= 20)\n",
        "plt.xlabel('Word Count')\n",
        "plt.ylabel('Frequency')\n",
        "plt.title('Histogram of Word Count in Text Data')\n",
        "plt.grid(True)\n",
        "plt.show()"
      ]
    },
    {
      "cell_type": "code",
      "execution_count": null,
      "metadata": {
        "colab": {
          "base_uri": "https://localhost:8080/"
        },
        "execution": {
          "iopub.execute_input": "2025-06-19T06:12:16.468127Z",
          "iopub.status.busy": "2025-06-19T06:12:16.467845Z",
          "iopub.status.idle": "2025-06-19T06:12:16.475965Z",
          "shell.execute_reply": "2025-06-19T06:12:16.475323Z",
          "shell.execute_reply.started": "2025-06-19T06:12:16.468104Z"
        },
        "id": "6-lM-0Tx39VV",
        "outputId": "69974919-7b21-4061-d9f4-e946c8280e62"
      },
      "outputs": [
        {
          "name": "stdout",
          "output_type": "stream",
          "text": [
            "Text has length under 1000 words : 76771\n",
            "Number of total text : 78588\n",
            "Ratio : 97.69 %\n"
          ]
        }
      ],
      "source": [
        "most_text_len = [x < 1000 for x in len_X_tokenize]\n",
        "print(f\"Text has length under 1000 words : {sum(most_text_len)}\")\n",
        "print(f\"Number of total text : {len(len_X_tokenize)}\")\n",
        "print(f\"Ratio : {(sum(most_text_len) / len(len_X_tokenize) * 100):.2f} %\")"
      ]
    },
    {
      "cell_type": "markdown",
      "metadata": {
        "id": "PoMpMwiX2Tt2"
      },
      "source": [
        "## 3. **SVC - XGBoost Model**:"
      ]
    },
    {
      "cell_type": "markdown",
      "metadata": {
        "id": "ellR5f3zxFLf"
      },
      "source": [
        "- Prepare the data:\n",
        "  - Train-Test Split: The dataset was split into training and testing sets to evaluate model performance during the training phase.\n",
        "\n",
        "  - Text Representation: I used TfidfVectorizer to transform text into numerical feature vectors. This word represention technique captures the importance of words across documents."
      ]
    },
    {
      "cell_type": "code",
      "execution_count": null,
      "metadata": {
        "colab": {
          "base_uri": "https://localhost:8080/"
        },
        "execution": {
          "iopub.execute_input": "2025-06-19T06:12:16.476929Z",
          "iopub.status.busy": "2025-06-19T06:12:16.476615Z",
          "iopub.status.idle": "2025-06-19T06:12:17.037969Z",
          "shell.execute_reply": "2025-06-19T06:12:17.037393Z",
          "shell.execute_reply.started": "2025-06-19T06:12:16.476912Z"
        },
        "id": "0cAQb3N8xHgI",
        "outputId": "1fc19c01-b487-41d6-86d0-bcb0777502ec"
      },
      "outputs": [
        {
          "name": "stdout",
          "output_type": "stream",
          "text": [
            "\n",
            "Shape of X_train_tfidf: (62870, 5000)\n",
            "Shape of X_test_tfidf: (15718, 5000)\n"
          ]
        }
      ],
      "source": [
        "from sklearn.model_selection import train_test_split\n",
        "from sklearn.feature_extraction.text import TfidfVectorizer\n",
        "\n",
        "\n",
        "X_tokenize = df['token_text'].values\n",
        "X = [' '.join(x) for x in X_tokenize]\n",
        "y = df['label'].values\n",
        "\n",
        "X_train, X_test, y_train, y_test = train_test_split(X, y, test_size=0.2, random_state=RANDOM_STATE)\n",
        "\n",
        "# Initialize TfidfVectorizer\n",
        "# You can experiment with parameters like max_features, ngram_range, stop_words etc.\n",
        "tfidf_vectorizer = TfidfVectorizer(max_features=5000, ngram_range=(1, 2))\n",
        "\n",
        "# Fit the vectorizer on the training data and transform both train and test data\n",
        "X_train_tfidf = tfidf_vectorizer.fit_transform(X_train)\n",
        "X_test_tfidf = tfidf_vectorizer.transform(X_test)\n",
        "\n",
        "print(\"\\nShape of X_train_tfidf:\", X_train_tfidf.shape)\n",
        "print(\"Shape of X_test_tfidf:\", X_test_tfidf.shape)"
      ]
    },
    {
      "cell_type": "markdown",
      "metadata": {
        "id": "t62Y_F24CBY2"
      },
      "source": [
        "- Support Vector Machine (SVC)"
      ]
    },
    {
      "cell_type": "code",
      "execution_count": null,
      "metadata": {
        "colab": {
          "base_uri": "https://localhost:8080/",
          "height": 80
        },
        "execution": {
          "iopub.execute_input": "2025-06-19T06:13:14.037564Z",
          "iopub.status.busy": "2025-06-19T06:13:14.037312Z",
          "iopub.status.idle": "2025-06-19T06:13:26.828922Z",
          "shell.execute_reply": "2025-06-19T06:13:26.828119Z",
          "shell.execute_reply.started": "2025-06-19T06:13:14.037539Z"
        },
        "id": "d9stcVtexKTX",
        "outputId": "50d91747-598a-4196-a6d3-fe8330505ade"
      },
      "outputs": [
        {
          "data": {
            "text/html": [
              "<style>#sk-container-id-1 {\n",
              "  /* Definition of color scheme common for light and dark mode */\n",
              "  --sklearn-color-text: #000;\n",
              "  --sklearn-color-text-muted: #666;\n",
              "  --sklearn-color-line: gray;\n",
              "  /* Definition of color scheme for unfitted estimators */\n",
              "  --sklearn-color-unfitted-level-0: #fff5e6;\n",
              "  --sklearn-color-unfitted-level-1: #f6e4d2;\n",
              "  --sklearn-color-unfitted-level-2: #ffe0b3;\n",
              "  --sklearn-color-unfitted-level-3: chocolate;\n",
              "  /* Definition of color scheme for fitted estimators */\n",
              "  --sklearn-color-fitted-level-0: #f0f8ff;\n",
              "  --sklearn-color-fitted-level-1: #d4ebff;\n",
              "  --sklearn-color-fitted-level-2: #b3dbfd;\n",
              "  --sklearn-color-fitted-level-3: cornflowerblue;\n",
              "\n",
              "  /* Specific color for light theme */\n",
              "  --sklearn-color-text-on-default-background: var(--sg-text-color, var(--theme-code-foreground, var(--jp-content-font-color1, black)));\n",
              "  --sklearn-color-background: var(--sg-background-color, var(--theme-background, var(--jp-layout-color0, white)));\n",
              "  --sklearn-color-border-box: var(--sg-text-color, var(--theme-code-foreground, var(--jp-content-font-color1, black)));\n",
              "  --sklearn-color-icon: #696969;\n",
              "\n",
              "  @media (prefers-color-scheme: dark) {\n",
              "    /* Redefinition of color scheme for dark theme */\n",
              "    --sklearn-color-text-on-default-background: var(--sg-text-color, var(--theme-code-foreground, var(--jp-content-font-color1, white)));\n",
              "    --sklearn-color-background: var(--sg-background-color, var(--theme-background, var(--jp-layout-color0, #111)));\n",
              "    --sklearn-color-border-box: var(--sg-text-color, var(--theme-code-foreground, var(--jp-content-font-color1, white)));\n",
              "    --sklearn-color-icon: #878787;\n",
              "  }\n",
              "}\n",
              "\n",
              "#sk-container-id-1 {\n",
              "  color: var(--sklearn-color-text);\n",
              "}\n",
              "\n",
              "#sk-container-id-1 pre {\n",
              "  padding: 0;\n",
              "}\n",
              "\n",
              "#sk-container-id-1 input.sk-hidden--visually {\n",
              "  border: 0;\n",
              "  clip: rect(1px 1px 1px 1px);\n",
              "  clip: rect(1px, 1px, 1px, 1px);\n",
              "  height: 1px;\n",
              "  margin: -1px;\n",
              "  overflow: hidden;\n",
              "  padding: 0;\n",
              "  position: absolute;\n",
              "  width: 1px;\n",
              "}\n",
              "\n",
              "#sk-container-id-1 div.sk-dashed-wrapped {\n",
              "  border: 1px dashed var(--sklearn-color-line);\n",
              "  margin: 0 0.4em 0.5em 0.4em;\n",
              "  box-sizing: border-box;\n",
              "  padding-bottom: 0.4em;\n",
              "  background-color: var(--sklearn-color-background);\n",
              "}\n",
              "\n",
              "#sk-container-id-1 div.sk-container {\n",
              "  /* jupyter's `normalize.less` sets `[hidden] { display: none; }`\n",
              "     but bootstrap.min.css set `[hidden] { display: none !important; }`\n",
              "     so we also need the `!important` here to be able to override the\n",
              "     default hidden behavior on the sphinx rendered scikit-learn.org.\n",
              "     See: https://github.com/scikit-learn/scikit-learn/issues/21755 */\n",
              "  display: inline-block !important;\n",
              "  position: relative;\n",
              "}\n",
              "\n",
              "#sk-container-id-1 div.sk-text-repr-fallback {\n",
              "  display: none;\n",
              "}\n",
              "\n",
              "div.sk-parallel-item,\n",
              "div.sk-serial,\n",
              "div.sk-item {\n",
              "  /* draw centered vertical line to link estimators */\n",
              "  background-image: linear-gradient(var(--sklearn-color-text-on-default-background), var(--sklearn-color-text-on-default-background));\n",
              "  background-size: 2px 100%;\n",
              "  background-repeat: no-repeat;\n",
              "  background-position: center center;\n",
              "}\n",
              "\n",
              "/* Parallel-specific style estimator block */\n",
              "\n",
              "#sk-container-id-1 div.sk-parallel-item::after {\n",
              "  content: \"\";\n",
              "  width: 100%;\n",
              "  border-bottom: 2px solid var(--sklearn-color-text-on-default-background);\n",
              "  flex-grow: 1;\n",
              "}\n",
              "\n",
              "#sk-container-id-1 div.sk-parallel {\n",
              "  display: flex;\n",
              "  align-items: stretch;\n",
              "  justify-content: center;\n",
              "  background-color: var(--sklearn-color-background);\n",
              "  position: relative;\n",
              "}\n",
              "\n",
              "#sk-container-id-1 div.sk-parallel-item {\n",
              "  display: flex;\n",
              "  flex-direction: column;\n",
              "}\n",
              "\n",
              "#sk-container-id-1 div.sk-parallel-item:first-child::after {\n",
              "  align-self: flex-end;\n",
              "  width: 50%;\n",
              "}\n",
              "\n",
              "#sk-container-id-1 div.sk-parallel-item:last-child::after {\n",
              "  align-self: flex-start;\n",
              "  width: 50%;\n",
              "}\n",
              "\n",
              "#sk-container-id-1 div.sk-parallel-item:only-child::after {\n",
              "  width: 0;\n",
              "}\n",
              "\n",
              "/* Serial-specific style estimator block */\n",
              "\n",
              "#sk-container-id-1 div.sk-serial {\n",
              "  display: flex;\n",
              "  flex-direction: column;\n",
              "  align-items: center;\n",
              "  background-color: var(--sklearn-color-background);\n",
              "  padding-right: 1em;\n",
              "  padding-left: 1em;\n",
              "}\n",
              "\n",
              "\n",
              "/* Toggleable style: style used for estimator/Pipeline/ColumnTransformer box that is\n",
              "clickable and can be expanded/collapsed.\n",
              "- Pipeline and ColumnTransformer use this feature and define the default style\n",
              "- Estimators will overwrite some part of the style using the `sk-estimator` class\n",
              "*/\n",
              "\n",
              "/* Pipeline and ColumnTransformer style (default) */\n",
              "\n",
              "#sk-container-id-1 div.sk-toggleable {\n",
              "  /* Default theme specific background. It is overwritten whether we have a\n",
              "  specific estimator or a Pipeline/ColumnTransformer */\n",
              "  background-color: var(--sklearn-color-background);\n",
              "}\n",
              "\n",
              "/* Toggleable label */\n",
              "#sk-container-id-1 label.sk-toggleable__label {\n",
              "  cursor: pointer;\n",
              "  display: flex;\n",
              "  width: 100%;\n",
              "  margin-bottom: 0;\n",
              "  padding: 0.5em;\n",
              "  box-sizing: border-box;\n",
              "  text-align: center;\n",
              "  align-items: start;\n",
              "  justify-content: space-between;\n",
              "  gap: 0.5em;\n",
              "}\n",
              "\n",
              "#sk-container-id-1 label.sk-toggleable__label .caption {\n",
              "  font-size: 0.6rem;\n",
              "  font-weight: lighter;\n",
              "  color: var(--sklearn-color-text-muted);\n",
              "}\n",
              "\n",
              "#sk-container-id-1 label.sk-toggleable__label-arrow:before {\n",
              "  /* Arrow on the left of the label */\n",
              "  content: \"▸\";\n",
              "  float: left;\n",
              "  margin-right: 0.25em;\n",
              "  color: var(--sklearn-color-icon);\n",
              "}\n",
              "\n",
              "#sk-container-id-1 label.sk-toggleable__label-arrow:hover:before {\n",
              "  color: var(--sklearn-color-text);\n",
              "}\n",
              "\n",
              "/* Toggleable content - dropdown */\n",
              "\n",
              "#sk-container-id-1 div.sk-toggleable__content {\n",
              "  max-height: 0;\n",
              "  max-width: 0;\n",
              "  overflow: hidden;\n",
              "  text-align: left;\n",
              "  /* unfitted */\n",
              "  background-color: var(--sklearn-color-unfitted-level-0);\n",
              "}\n",
              "\n",
              "#sk-container-id-1 div.sk-toggleable__content.fitted {\n",
              "  /* fitted */\n",
              "  background-color: var(--sklearn-color-fitted-level-0);\n",
              "}\n",
              "\n",
              "#sk-container-id-1 div.sk-toggleable__content pre {\n",
              "  margin: 0.2em;\n",
              "  border-radius: 0.25em;\n",
              "  color: var(--sklearn-color-text);\n",
              "  /* unfitted */\n",
              "  background-color: var(--sklearn-color-unfitted-level-0);\n",
              "}\n",
              "\n",
              "#sk-container-id-1 div.sk-toggleable__content.fitted pre {\n",
              "  /* unfitted */\n",
              "  background-color: var(--sklearn-color-fitted-level-0);\n",
              "}\n",
              "\n",
              "#sk-container-id-1 input.sk-toggleable__control:checked~div.sk-toggleable__content {\n",
              "  /* Expand drop-down */\n",
              "  max-height: 200px;\n",
              "  max-width: 100%;\n",
              "  overflow: auto;\n",
              "}\n",
              "\n",
              "#sk-container-id-1 input.sk-toggleable__control:checked~label.sk-toggleable__label-arrow:before {\n",
              "  content: \"▾\";\n",
              "}\n",
              "\n",
              "/* Pipeline/ColumnTransformer-specific style */\n",
              "\n",
              "#sk-container-id-1 div.sk-label input.sk-toggleable__control:checked~label.sk-toggleable__label {\n",
              "  color: var(--sklearn-color-text);\n",
              "  background-color: var(--sklearn-color-unfitted-level-2);\n",
              "}\n",
              "\n",
              "#sk-container-id-1 div.sk-label.fitted input.sk-toggleable__control:checked~label.sk-toggleable__label {\n",
              "  background-color: var(--sklearn-color-fitted-level-2);\n",
              "}\n",
              "\n",
              "/* Estimator-specific style */\n",
              "\n",
              "/* Colorize estimator box */\n",
              "#sk-container-id-1 div.sk-estimator input.sk-toggleable__control:checked~label.sk-toggleable__label {\n",
              "  /* unfitted */\n",
              "  background-color: var(--sklearn-color-unfitted-level-2);\n",
              "}\n",
              "\n",
              "#sk-container-id-1 div.sk-estimator.fitted input.sk-toggleable__control:checked~label.sk-toggleable__label {\n",
              "  /* fitted */\n",
              "  background-color: var(--sklearn-color-fitted-level-2);\n",
              "}\n",
              "\n",
              "#sk-container-id-1 div.sk-label label.sk-toggleable__label,\n",
              "#sk-container-id-1 div.sk-label label {\n",
              "  /* The background is the default theme color */\n",
              "  color: var(--sklearn-color-text-on-default-background);\n",
              "}\n",
              "\n",
              "/* On hover, darken the color of the background */\n",
              "#sk-container-id-1 div.sk-label:hover label.sk-toggleable__label {\n",
              "  color: var(--sklearn-color-text);\n",
              "  background-color: var(--sklearn-color-unfitted-level-2);\n",
              "}\n",
              "\n",
              "/* Label box, darken color on hover, fitted */\n",
              "#sk-container-id-1 div.sk-label.fitted:hover label.sk-toggleable__label.fitted {\n",
              "  color: var(--sklearn-color-text);\n",
              "  background-color: var(--sklearn-color-fitted-level-2);\n",
              "}\n",
              "\n",
              "/* Estimator label */\n",
              "\n",
              "#sk-container-id-1 div.sk-label label {\n",
              "  font-family: monospace;\n",
              "  font-weight: bold;\n",
              "  display: inline-block;\n",
              "  line-height: 1.2em;\n",
              "}\n",
              "\n",
              "#sk-container-id-1 div.sk-label-container {\n",
              "  text-align: center;\n",
              "}\n",
              "\n",
              "/* Estimator-specific */\n",
              "#sk-container-id-1 div.sk-estimator {\n",
              "  font-family: monospace;\n",
              "  border: 1px dotted var(--sklearn-color-border-box);\n",
              "  border-radius: 0.25em;\n",
              "  box-sizing: border-box;\n",
              "  margin-bottom: 0.5em;\n",
              "  /* unfitted */\n",
              "  background-color: var(--sklearn-color-unfitted-level-0);\n",
              "}\n",
              "\n",
              "#sk-container-id-1 div.sk-estimator.fitted {\n",
              "  /* fitted */\n",
              "  background-color: var(--sklearn-color-fitted-level-0);\n",
              "}\n",
              "\n",
              "/* on hover */\n",
              "#sk-container-id-1 div.sk-estimator:hover {\n",
              "  /* unfitted */\n",
              "  background-color: var(--sklearn-color-unfitted-level-2);\n",
              "}\n",
              "\n",
              "#sk-container-id-1 div.sk-estimator.fitted:hover {\n",
              "  /* fitted */\n",
              "  background-color: var(--sklearn-color-fitted-level-2);\n",
              "}\n",
              "\n",
              "/* Specification for estimator info (e.g. \"i\" and \"?\") */\n",
              "\n",
              "/* Common style for \"i\" and \"?\" */\n",
              "\n",
              ".sk-estimator-doc-link,\n",
              "a:link.sk-estimator-doc-link,\n",
              "a:visited.sk-estimator-doc-link {\n",
              "  float: right;\n",
              "  font-size: smaller;\n",
              "  line-height: 1em;\n",
              "  font-family: monospace;\n",
              "  background-color: var(--sklearn-color-background);\n",
              "  border-radius: 1em;\n",
              "  height: 1em;\n",
              "  width: 1em;\n",
              "  text-decoration: none !important;\n",
              "  margin-left: 0.5em;\n",
              "  text-align: center;\n",
              "  /* unfitted */\n",
              "  border: var(--sklearn-color-unfitted-level-1) 1pt solid;\n",
              "  color: var(--sklearn-color-unfitted-level-1);\n",
              "}\n",
              "\n",
              ".sk-estimator-doc-link.fitted,\n",
              "a:link.sk-estimator-doc-link.fitted,\n",
              "a:visited.sk-estimator-doc-link.fitted {\n",
              "  /* fitted */\n",
              "  border: var(--sklearn-color-fitted-level-1) 1pt solid;\n",
              "  color: var(--sklearn-color-fitted-level-1);\n",
              "}\n",
              "\n",
              "/* On hover */\n",
              "div.sk-estimator:hover .sk-estimator-doc-link:hover,\n",
              ".sk-estimator-doc-link:hover,\n",
              "div.sk-label-container:hover .sk-estimator-doc-link:hover,\n",
              ".sk-estimator-doc-link:hover {\n",
              "  /* unfitted */\n",
              "  background-color: var(--sklearn-color-unfitted-level-3);\n",
              "  color: var(--sklearn-color-background);\n",
              "  text-decoration: none;\n",
              "}\n",
              "\n",
              "div.sk-estimator.fitted:hover .sk-estimator-doc-link.fitted:hover,\n",
              ".sk-estimator-doc-link.fitted:hover,\n",
              "div.sk-label-container:hover .sk-estimator-doc-link.fitted:hover,\n",
              ".sk-estimator-doc-link.fitted:hover {\n",
              "  /* fitted */\n",
              "  background-color: var(--sklearn-color-fitted-level-3);\n",
              "  color: var(--sklearn-color-background);\n",
              "  text-decoration: none;\n",
              "}\n",
              "\n",
              "/* Span, style for the box shown on hovering the info icon */\n",
              ".sk-estimator-doc-link span {\n",
              "  display: none;\n",
              "  z-index: 9999;\n",
              "  position: relative;\n",
              "  font-weight: normal;\n",
              "  right: .2ex;\n",
              "  padding: .5ex;\n",
              "  margin: .5ex;\n",
              "  width: min-content;\n",
              "  min-width: 20ex;\n",
              "  max-width: 50ex;\n",
              "  color: var(--sklearn-color-text);\n",
              "  box-shadow: 2pt 2pt 4pt #999;\n",
              "  /* unfitted */\n",
              "  background: var(--sklearn-color-unfitted-level-0);\n",
              "  border: .5pt solid var(--sklearn-color-unfitted-level-3);\n",
              "}\n",
              "\n",
              ".sk-estimator-doc-link.fitted span {\n",
              "  /* fitted */\n",
              "  background: var(--sklearn-color-fitted-level-0);\n",
              "  border: var(--sklearn-color-fitted-level-3);\n",
              "}\n",
              "\n",
              ".sk-estimator-doc-link:hover span {\n",
              "  display: block;\n",
              "}\n",
              "\n",
              "/* \"?\"-specific style due to the `<a>` HTML tag */\n",
              "\n",
              "#sk-container-id-1 a.estimator_doc_link {\n",
              "  float: right;\n",
              "  font-size: 1rem;\n",
              "  line-height: 1em;\n",
              "  font-family: monospace;\n",
              "  background-color: var(--sklearn-color-background);\n",
              "  border-radius: 1rem;\n",
              "  height: 1rem;\n",
              "  width: 1rem;\n",
              "  text-decoration: none;\n",
              "  /* unfitted */\n",
              "  color: var(--sklearn-color-unfitted-level-1);\n",
              "  border: var(--sklearn-color-unfitted-level-1) 1pt solid;\n",
              "}\n",
              "\n",
              "#sk-container-id-1 a.estimator_doc_link.fitted {\n",
              "  /* fitted */\n",
              "  border: var(--sklearn-color-fitted-level-1) 1pt solid;\n",
              "  color: var(--sklearn-color-fitted-level-1);\n",
              "}\n",
              "\n",
              "/* On hover */\n",
              "#sk-container-id-1 a.estimator_doc_link:hover {\n",
              "  /* unfitted */\n",
              "  background-color: var(--sklearn-color-unfitted-level-3);\n",
              "  color: var(--sklearn-color-background);\n",
              "  text-decoration: none;\n",
              "}\n",
              "\n",
              "#sk-container-id-1 a.estimator_doc_link.fitted:hover {\n",
              "  /* fitted */\n",
              "  background-color: var(--sklearn-color-fitted-level-3);\n",
              "}\n",
              "</style><div id=\"sk-container-id-1\" class=\"sk-top-container\"><div class=\"sk-text-repr-fallback\"><pre>LinearSVC()</pre><b>In a Jupyter environment, please rerun this cell to show the HTML representation or trust the notebook. <br />On GitHub, the HTML representation is unable to render, please try loading this page with nbviewer.org.</b></div><div class=\"sk-container\" hidden><div class=\"sk-item\"><div class=\"sk-estimator fitted sk-toggleable\"><input class=\"sk-toggleable__control sk-hidden--visually\" id=\"sk-estimator-id-1\" type=\"checkbox\" checked><label for=\"sk-estimator-id-1\" class=\"sk-toggleable__label fitted sk-toggleable__label-arrow\"><div><div>LinearSVC</div></div><div><a class=\"sk-estimator-doc-link fitted\" rel=\"noreferrer\" target=\"_blank\" href=\"https://scikit-learn.org/1.6/modules/generated/sklearn.svm.LinearSVC.html\">?<span>Documentation for LinearSVC</span></a><span class=\"sk-estimator-doc-link fitted\">i<span>Fitted</span></span></div></label><div class=\"sk-toggleable__content fitted\"><pre>LinearSVC()</pre></div> </div></div></div></div>"
            ],
            "text/plain": [
              "LinearSVC()"
            ]
          },
          "execution_count": 22,
          "metadata": {},
          "output_type": "execute_result"
        }
      ],
      "source": [
        "from sklearn.svm import LinearSVC\n",
        "\n",
        "linear_svc = LinearSVC()\n",
        "linear_svc.fit(X_train_tfidf, y_train)"
      ]
    },
    {
      "cell_type": "code",
      "execution_count": null,
      "metadata": {
        "colab": {
          "base_uri": "https://localhost:8080/"
        },
        "id": "ne82izBo2z7O",
        "outputId": "aa7cfd1f-8631-4fc9-8ebd-2ed8b6e9aacd"
      },
      "outputs": [
        {
          "name": "stdout",
          "output_type": "stream",
          "text": [
            "Linear SVC Results:\n",
            "Accuracy: 0.9393052551215167\n",
            "Confusion Matrix:\n",
            "[[8204  484]\n",
            " [ 470 6560]]\n",
            "              precision    recall  f1-score   support\n",
            "\n",
            "        True       0.95      0.94      0.95      8688\n",
            "        Fake       0.93      0.93      0.93      7030\n",
            "\n",
            "    accuracy                           0.94     15718\n",
            "   macro avg       0.94      0.94      0.94     15718\n",
            "weighted avg       0.94      0.94      0.94     15718\n",
            "\n"
          ]
        }
      ],
      "source": [
        "from sklearn.metrics import accuracy_score, confusion_matrix, classification_report\n",
        "\n",
        "# Đánh giá mô hình\n",
        "y_pred = linear_svc.predict(X_test_tfidf)\n",
        "print(\"Linear SVC Results:\")\n",
        "print(f\"Accuracy: {accuracy_score(y_test, y_pred)}\")\n",
        "print(f\"Confusion Matrix:\\n{confusion_matrix(y_test, y_pred)}\")\n",
        "print(classification_report(y_test, y_pred, target_names=['True', 'Fake']))"
      ]
    },
    {
      "cell_type": "markdown",
      "metadata": {
        "id": "-v3bYh-ICF7x"
      },
      "source": [
        "- XGBoost Model"
      ]
    },
    {
      "cell_type": "code",
      "execution_count": null,
      "metadata": {
        "colab": {
          "base_uri": "https://localhost:8080/"
        },
        "execution": {
          "iopub.execute_input": "2025-06-19T06:16:15.706312Z",
          "iopub.status.busy": "2025-06-19T06:16:15.705774Z",
          "iopub.status.idle": "2025-06-19T06:17:43.035941Z",
          "shell.execute_reply": "2025-06-19T06:17:43.035257Z",
          "shell.execute_reply.started": "2025-06-19T06:16:15.706287Z"
        },
        "id": "U7joXYF3xO80",
        "outputId": "7dac3417-e433-406d-81e8-a2e9f0eb06a7"
      },
      "outputs": [
        {
          "name": "stdout",
          "output_type": "stream",
          "text": [
            "\n",
            "XGBoost Results :\n",
            "Accuracy: 0.9477032701361496\n",
            "Confusion Matrix:\n",
            "[[8319  369]\n",
            " [ 453 6577]]\n",
            "              precision    recall  f1-score   support\n",
            "\n",
            "        True       0.95      0.96      0.95      8688\n",
            "        Fake       0.95      0.94      0.94      7030\n",
            "\n",
            "    accuracy                           0.95     15718\n",
            "   macro avg       0.95      0.95      0.95     15718\n",
            "weighted avg       0.95      0.95      0.95     15718\n",
            "\n"
          ]
        }
      ],
      "source": [
        "from xgboost import XGBClassifier\n",
        "\n",
        "\n",
        "xgb_model = XGBClassifier(objective='binary:logistic',\n",
        "                          eval_metric='logloss',\n",
        "                          use_label_encoder=False,\n",
        "                          random_state=42)\n",
        "\n",
        "\n",
        "xgb_model.fit(X_train_tfidf, y_train)\n",
        "\n",
        "y_pred = xgb_model.predict(X_test_tfidf)\n",
        "print(\"\\nXGBoost Results :\")\n",
        "print(f\"Accuracy: {accuracy_score(y_test, y_pred)}\")\n",
        "print(f\"Confusion Matrix:\\n{confusion_matrix(y_test, y_pred)}\")\n",
        "print(classification_report(y_test, y_pred, target_names=['True', 'Fake']))"
      ]
    },
    {
      "cell_type": "markdown",
      "metadata": {
        "id": "R6T_XosSMwst"
      },
      "source": [
        "## 4. **RNN - Model Building**:"
      ]
    },
    {
      "cell_type": "markdown",
      "metadata": {
        "id": "uHOGFVkEDAeu"
      },
      "source": [
        "- Data Preparation\n",
        "  - Tokenization: I used the Tokenizer from tensorflow.keras.preprocessing.text to transform each text into a sequence of numbers, where each number represents a word in the vocabulary.\n",
        "\n",
        "  - Padding: I used pad_sequences to ensure uniform input lengths for all tokenized_text"
      ]
    },
    {
      "cell_type": "code",
      "execution_count": null,
      "metadata": {
        "execution": {
          "iopub.execute_input": "2025-06-19T06:40:52.258870Z",
          "iopub.status.busy": "2025-06-19T06:40:52.258593Z",
          "iopub.status.idle": "2025-06-19T06:41:09.685035Z",
          "shell.execute_reply": "2025-06-19T06:41:09.684274Z",
          "shell.execute_reply.started": "2025-06-19T06:40:52.258849Z"
        },
        "id": "8M-76xgGIlNQ"
      },
      "outputs": [],
      "source": [
        "from tensorflow.keras.preprocessing.text import Tokenizer\n",
        "from tensorflow.keras.preprocessing.sequence import pad_sequences\n",
        "import pickle"
      ]
    },
    {
      "cell_type": "code",
      "execution_count": null,
      "metadata": {
        "execution": {
          "iopub.execute_input": "2025-06-19T06:41:09.686860Z",
          "iopub.status.busy": "2025-06-19T06:41:09.686246Z",
          "iopub.status.idle": "2025-06-19T06:41:25.927298Z",
          "shell.execute_reply": "2025-06-19T06:41:25.926746Z",
          "shell.execute_reply.started": "2025-06-19T06:41:09.686836Z"
        },
        "id": "TRbFRSarIdFz"
      },
      "outputs": [],
      "source": [
        "X_tokenize = df['token_text'].values\n",
        "y = df['label'].values\n",
        "\n",
        "tokenizer = Tokenizer()\n",
        "tokenizer.fit_on_texts(X_tokenize)\n",
        "\n",
        "with open('tokenizer.pkl', 'wb') as f:\n",
        "    pickle.dump(tokenizer, f)\n",
        "\n",
        "# According to the length of tokenize_text histogram, I used maxlen = 1000\n",
        "X_to_seq = tokenizer.texts_to_sequences(X_tokenize)\n",
        "X  =  pad_sequences(X_to_seq, maxlen = 1000, padding='post')"
      ]
    },
    {
      "cell_type": "markdown",
      "metadata": {
        "id": "4JSO_rDBDEyk"
      },
      "source": [
        "- Building Pre_train embedding matrix:\n",
        "  - To save training time and computational resources, I used pre-trained word embeddings provided by SpaCy.\n",
        "\n",
        "  - Embeddings matrix is used to initialize the embedding layer in our RNN model, create semantic representations of words."
      ]
    },
    {
      "cell_type": "code",
      "execution_count": null,
      "metadata": {
        "colab": {
          "base_uri": "https://localhost:8080/"
        },
        "execution": {
          "iopub.execute_input": "2025-06-19T06:42:46.912944Z",
          "iopub.status.busy": "2025-06-19T06:42:46.912744Z",
          "iopub.status.idle": "2025-06-19T06:42:46.940026Z",
          "shell.execute_reply": "2025-06-19T06:42:46.939426Z",
          "shell.execute_reply.started": "2025-06-19T06:42:46.912929Z"
        },
        "id": "eKis4kpHPPbL",
        "outputId": "ba3b2bd0-a333-498f-b018-8bc745e2e5de"
      },
      "outputs": [
        {
          "name": "stdout",
          "output_type": "stream",
          "text": [
            "96\n",
            "[-0.8065487  -0.6003126   0.12933397  0.31953967  0.45416236 -0.4452542\n",
            "  0.9377103   0.9104416  -0.7108599   0.26936716  1.3354512  -0.41846532\n",
            " -0.80232537 -0.40462142 -0.44315508  0.7921235  -0.80240077 -0.05600697\n",
            "  0.8197495  -1.0906345  -0.4822933   0.35827392 -0.72826266  0.16038938\n",
            "  0.32068413  0.31131482  1.4588704  -0.02827361 -0.85481703  0.7302246\n",
            " -0.18364504  0.82469463 -0.1643664   0.28132826 -1.0584749  -1.2489892\n",
            "  0.14562583  1.8613045  -0.5338464   0.02979809 -0.84199905 -0.17525208\n",
            "  0.16358793 -0.26217926  0.3180539  -0.23944882  0.45430607 -0.46923858\n",
            " -1.071565   -0.58500254  0.42058384  0.19763409 -0.63432074 -0.79363835\n",
            "  0.51851475 -0.27989352  0.71346295  0.1871201   0.18756378  0.3648195\n",
            " -1.1430688   0.25486982 -0.18286252 -0.8194812   0.01245007  0.7184929\n",
            " -0.01709916  0.24378717 -1.0131514  -0.22572117  0.02815036  1.3482662\n",
            "  1.2896506   0.7242564   0.07999021 -0.64380264  0.10995874 -0.46442616\n",
            " -0.75015855 -0.05766013 -0.1561332   0.13619605 -0.4458968   0.03412226\n",
            " -0.52123344  1.0693929  -0.12264724 -0.20367976 -1.0162226   0.47710004\n",
            " -0.8790434   0.94034475  1.1948731   0.10317647  0.6015937   0.5962729 ]\n"
          ]
        }
      ],
      "source": [
        "#!python -m spacy download en_core_web_lg\n",
        "\n",
        "import spacy\n",
        "nlp = spacy.load(\"en_core_web_sm\")\n",
        "\n",
        "print(len(nlp('hihi').vector))\n",
        "print(nlp('hihi').vector)"
      ]
    },
    {
      "cell_type": "code",
      "execution_count": null,
      "metadata": {
        "execution": {
          "iopub.execute_input": "2025-06-19T06:42:46.941330Z",
          "iopub.status.busy": "2025-06-19T06:42:46.940799Z",
          "iopub.status.idle": "2025-06-19T06:42:46.945885Z",
          "shell.execute_reply": "2025-06-19T06:42:46.945174Z",
          "shell.execute_reply.started": "2025-06-19T06:42:46.941311Z"
        },
        "id": "szgh6tREGDuA"
      },
      "outputs": [],
      "source": [
        "word_index = tokenizer.word_index\n",
        "vocab_size = len(word_index) + 1\n",
        "embeddims = 300\n",
        "\n",
        "def embed_matrix(nlp, word_index, vocab_size, embedding_dim = embeddims):\n",
        "    weight_matrix = np.zeros((vocab_size, embedding_dim))\n",
        "\n",
        "    for word, i in word_index.items():\n",
        "        if nlp.vocab.has_vector(word):\n",
        "            weight_matrix[i] = nlp(word).vector[:embedding_dim]\n",
        "        else:\n",
        "            weight_matrix[i] = np.random.normal(scale=0.6, size=(embedding_dim,))  ## if not exsists then random the values of weights\n",
        "\n",
        "    return weight_matrix\n",
        "\n",
        "embedding_weights = embed_matrix(nlp, word_index, vocab_size)\n",
        "\n",
        "embedding_weights.shape\n"
      ]
    },
    {
      "cell_type": "markdown",
      "metadata": {
        "id": "s_-pr9_jD-dp"
      },
      "source": [
        "- Create Train-Validation-Test Dataloader"
      ]
    },
    {
      "cell_type": "code",
      "execution_count": null,
      "metadata": {
        "execution": {
          "iopub.execute_input": "2025-06-19T06:42:53.110553Z",
          "iopub.status.busy": "2025-06-19T06:42:53.110337Z",
          "iopub.status.idle": "2025-06-19T06:42:53.123165Z",
          "shell.execute_reply": "2025-06-19T06:42:53.122585Z",
          "shell.execute_reply.started": "2025-06-19T06:42:53.110532Z"
        },
        "id": "GfLsgeItB4wT"
      },
      "outputs": [],
      "source": [
        "from torch.utils.data import Dataset, DataLoader\n",
        "from sklearn.model_selection import train_test_split\n",
        "\n",
        "class TextDataset(Dataset):\n",
        "    def __init__(self, X, y):\n",
        "        self.X = X\n",
        "        self.y = y\n",
        "\n",
        "    def __len__(self):\n",
        "        return len(self.X)\n",
        "\n",
        "    def __getitem__(self, index):\n",
        "        # Convert X, y về tensor nếu chưa phải\n",
        "        return torch.LongTensor(self.X[index]), torch.tensor(self.y[index], dtype=torch.float)\n",
        "\n",
        "trainX, testX, trainY, testY = train_test_split(X, y, test_size=0.05, random_state=RANDOM_STATE)\n",
        "trainX, valX, trainY, valY = train_test_split(trainX, trainY, test_size=0.1, random_state=RANDOM_STATE)\n",
        "\n",
        "train_loader = DataLoader(TextDataset(trainX, trainY), batch_size = 16, shuffle = True)\n",
        "val_loader = DataLoader(TextDataset(valX, valY), batch_size = 16, shuffle = True)\n",
        "test_loader = DataLoader(TextDataset(testX, testY), batch_size = 16)"
      ]
    },
    {
      "cell_type": "markdown",
      "metadata": {
        "id": "OZshgZtj-avV"
      },
      "source": [
        "- Building RNN Model:\n",
        "  - Embedding Layer :\n",
        "    - Transform word indices into vectors (word embeddings).\n",
        "\n",
        "    - input_shape: (batch_size, sequence_length)\n",
        "\n",
        "    - output_shape: (batch_size, sequence_length, embedding_dim)\n",
        "\n",
        "  - LSTM Layer:\n",
        "    - Want to keep the final hidden state of the full sequence.\n",
        "    \n",
        "    - input_shape: (batch_size, sequence_length, embedding_dim)\n",
        "\n",
        "    - output_shape: (batch_size, hidden_dim)\n",
        "\n",
        "  - Fully Connected Layer:\n",
        "    - Using final hidden state to produce the output.\n",
        "\n",
        "    - input_shape: (batch_size, hidden_dim)\n",
        "\n",
        "    - output_shape: (batch_size, 1)\n",
        "\n",
        "  - Output:\n",
        "    - Sigmoid value for binary-classificaion.\n",
        "    \n",
        "    - input_shape: (batch_size, 1)\n",
        "\n",
        "    - output_shape: (batch_size, 1)\n"
      ]
    },
    {
      "cell_type": "code",
      "execution_count": null,
      "metadata": {
        "execution": {
          "iopub.execute_input": "2025-06-19T06:42:53.344696Z",
          "iopub.status.busy": "2025-06-19T06:42:53.344502Z",
          "iopub.status.idle": "2025-06-19T06:42:53.349935Z",
          "shell.execute_reply": "2025-06-19T06:42:53.349254Z",
          "shell.execute_reply.started": "2025-06-19T06:42:53.344681Z"
        },
        "id": "38_rR_IO-cGn"
      },
      "outputs": [],
      "source": [
        "import torch\n",
        "import torch.nn as nn\n",
        "\n",
        "class RNN_model(nn.Module):\n",
        "    def __init__(self, vocab_size, embedding_dim, hidden_dim, output_dim, embedding_weights):\n",
        "        super(RNN_model, self).__init__()\n",
        "        self.embedding = nn.Embedding.from_pretrained(torch.tensor(embedding_weights, dtype=torch.float32), freeze = True)\n",
        "        self.lstm = nn.LSTM(input_size=embedding_dim,\n",
        "                            hidden_size=hidden_dim,\n",
        "                            batch_first=True)\n",
        "        self.fc = nn.Linear(hidden_dim, output_dim)\n",
        "\n",
        "    def forward(self, x):\n",
        "        embedded = self.embedding(x)\n",
        "        _, (hidden, _) = self.lstm(embedded)\n",
        "        out = self.fc(hidden.squeeze(0))\n",
        "        return torch.sigmoid(out)\n"
      ]
    },
    {
      "cell_type": "markdown",
      "metadata": {
        "id": "yQqg6XbSGhqT"
      },
      "source": [
        "## 5. **Hyperparameter set up**:"
      ]
    },
    {
      "cell_type": "code",
      "execution_count": null,
      "metadata": {
        "execution": {
          "iopub.execute_input": "2025-06-19T06:42:53.351138Z",
          "iopub.status.busy": "2025-06-19T06:42:53.350919Z",
          "iopub.status.idle": "2025-06-19T06:42:57.689044Z",
          "shell.execute_reply": "2025-06-19T06:42:57.688483Z",
          "shell.execute_reply.started": "2025-06-19T06:42:53.351123Z"
        },
        "id": "G00lp8Mh-cDJ"
      },
      "outputs": [],
      "source": [
        "rnn_model = RNN_model(vocab_size,\n",
        "                      embedding_dim = embeddims, # = 300\n",
        "                      hidden_dim = 128,\n",
        "                      output_dim = 1,\n",
        "                      embedding_weights = embedding_weights)\n",
        "\n",
        "criterion = nn.BCELoss() ## using BCELoss for binary classification\n",
        "optimizer = torch.optim.Adam(rnn_model.parameters(), lr=1e-3) # Adam with learning_rate = 0.001"
      ]
    },
    {
      "cell_type": "markdown",
      "metadata": {
        "id": "nn_acLN3Gx4V"
      },
      "source": [
        "## 6. **Model Training**::"
      ]
    },
    {
      "cell_type": "code",
      "execution_count": null,
      "metadata": {
        "execution": {
          "iopub.execute_input": "2025-06-19T06:42:57.690361Z",
          "iopub.status.busy": "2025-06-19T06:42:57.689798Z",
          "iopub.status.idle": "2025-06-19T06:42:57.701254Z",
          "shell.execute_reply": "2025-06-19T06:42:57.700622Z",
          "shell.execute_reply.started": "2025-06-19T06:42:57.690341Z"
        },
        "id": "8B1WbmUcAC3C"
      },
      "outputs": [],
      "source": [
        "from tqdm.auto import tqdm\n",
        "from sklearn.metrics import f1_score, accuracy_score, classification_report\n",
        "\n",
        "def train_model(model, train_loader, optimizer, device, epoch):\n",
        "    model.train()\n",
        "    epoch_loss = 0\n",
        "\n",
        "    model.zero_grad()\n",
        "\n",
        "    for batch in tqdm(train_loader, desc = f\"Training Epoch {epoch+1}\"):\n",
        "        inputs, labels = batch\n",
        "        inputs, labels = inputs.to(device), labels.to(device)\n",
        "\n",
        "        optimizer.zero_grad()\n",
        "        outputs = model(inputs).squeeze(1)\n",
        "        loss = criterion(outputs, labels)\n",
        "\n",
        "        epoch_loss += loss.item()\n",
        "\n",
        "        loss.backward()\n",
        "        optimizer.step()\n",
        "\n",
        "    avg_train_loss = epoch_loss / len(train_loader)\n",
        "    print(f\"Epoch {epoch+1} : \\n Train loss: {avg_train_loss:.4f}\")\n",
        "\n",
        "    return avg_train_loss\n",
        "\n",
        "\n",
        "def validation_model(model, val_loader, device):\n",
        "    model.eval() # with no update parameter\n",
        "    all_preds = []\n",
        "    all_labels = []\n",
        "    epoch_loss = 0\n",
        "\n",
        "    # with no update parameter\n",
        "    with torch.no_grad():\n",
        "        for batch in val_loader:\n",
        "            inputs, labels = batch\n",
        "            inputs, labels = inputs.to(device), labels.to(device)\n",
        "\n",
        "            outputs = model(inputs).squeeze(1)\n",
        "            loss = criterion(outputs, labels)\n",
        "\n",
        "            epoch_loss += loss.item()\n",
        "\n",
        "            preds = (outputs >= 0.5)\n",
        "\n",
        "            all_preds.extend(preds.cpu().numpy())\n",
        "            all_labels.extend(labels.cpu().numpy())\n",
        "\n",
        "    avg_val_loss = epoch_loss / len(val_loader)\n",
        "\n",
        "    avg_f1 = f1_score(all_labels, all_preds)\n",
        "    acc = accuracy_score(all_labels, all_preds)\n",
        "\n",
        "    print(f\" Validation loss: {avg_val_loss:.4f}\")\n",
        "    print(f\" Validation F1-score: {avg_f1:.4f} - Accuraccy: {acc:.4f}\\n\")\n",
        "    return avg_val_loss, avg_f1, acc\n",
        "\n",
        "\n",
        "def test_model(model, test_loader, device):\n",
        "    model.eval() # with no update parameter\n",
        "    all_preds = []\n",
        "    all_labels = []\n",
        "    epoch_loss = 0\n",
        "\n",
        "    # with no update parameter\n",
        "    with torch.no_grad():\n",
        "        for batch in val_loader:\n",
        "            inputs, labels = batch\n",
        "            inputs, labels = inputs.to(device), labels.to(device)\n",
        "\n",
        "            outputs = model(inputs).squeeze(1)\n",
        "            preds = (outputs >= 0.5)\n",
        "\n",
        "            all_preds.extend(preds.cpu().numpy())\n",
        "            all_labels.extend(labels.cpu().numpy())\n",
        "\n",
        "    print(classification_report(all_labels, all_preds))\n",
        "    print(\"Test results :\")\n",
        "    print(\"Accuracy:\", accuracy_score(all_labels, all_preds))\n",
        "    print(\"F1 Score:\", f1_score(all_labels, all_preds))"
      ]
    },
    {
      "cell_type": "code",
      "execution_count": null,
      "metadata": {
        "colab": {
          "base_uri": "https://localhost:8080/",
          "height": 1000,
          "referenced_widgets": [
            "b865c7ac13054bcbaf7e6bdbd31cc6e5",
            "e5bc1e3e061c4fe9a5062d841f881779",
            "148c14d17c3d46538a048a8bbaab1a42",
            "ab8bf2e7b8234a5cb1ae366efd12c97a",
            "b7399aca0f4c42a7ab0e7b4f4b65d608",
            "1eae8fa20419479eac8e43c86ba12ba2",
            "2a3dee419c144b1ebd90ee7b973646df",
            "ce1a67a88a5345719c21247e90a11488",
            "6836811f0f674fc8844b4dcdd0f0e4aa",
            "2c0c92fdd3734e26872c939d5b40c26f",
            "e7036885fead4d1f950689951ab13008",
            "d37ea300180f4e40a510f0afff45e6e8",
            "2beee07909474141b5c5ef79bcfad9b6",
            "fb8be205cf434052a704174527edb448",
            "c96b20000d7a47ecb550ab3cea38adb8",
            "3ca128d370594100ba24f1f2ace47c22",
            "4d4a3a7081124c11bbe3b3a4d219fb90",
            "a93b2cc033fc42a881648e68fc3fe416",
            "10055d91f78d4f81b2269ab604921986",
            "23f8fa15a5bf4f5fae86a7810d656ba7",
            "6add33420a26420b8183c01c2da15203",
            "54a24b1d5cdc43bab51dec799e15fdd0",
            "a6e74b593c014b67912f443f247694a7",
            "f2c8041ae7c048809f36f19a564f17aa",
            "dc863c531a474582910a25ce96e681f7",
            "c15881116f294cb481923a3de5c3a9b4",
            "ea5a67e24cbe4c65a31705acc5503886",
            "28c15e19b6bf46379f874978060cc670",
            "d6b4728207764767ae9fd54a890e2cc1",
            "a65223fbece24d2293161ee3838570f3",
            "39cd3683944c420c9546ae64a8cda96c",
            "65239ec5c6f642cca95bb5b30b391764",
            "d0322c5423894d718952795a32ead2a8",
            "854d61f2f8714bf699108dbb749970c8",
            "fbb3eea3827e46fb9f7ce5175b77aca6",
            "177808f0ac0d4f209df076238d008dbd",
            "d0930d25c7c943729c7f13ed467025b1",
            "258a80e168c448559b95b111d18b0665",
            "edc4cdf5bb104c7c9c185ec23025fce5",
            "fdb6b3e31087412ca9debfab28438bbc",
            "484a3accae3a4b9f9039a6a724d02d86",
            "7632744747934d709d45e59ae8208d4f",
            "24a7f5d80adb4362bc3e441571400023",
            "19315413e4624491b2890057f71d3085",
            "0637fd7a4c46432ead0c923c7b8d5a64",
            "2ec1727c1b4842c7a8755e93ed91106a",
            "e8c0b8f813e64557805bd9677b94df5f",
            "260b3d70953c4381825c03e17ec613b6",
            "6934f4aa9abd4cb1bdc9e3e5e6c14f65",
            "d460ae7faa0f43938ff651080517651e",
            "c506f2903ca946679b77790198271041",
            "eb0c306dc1694124bb8303a4c9e97796",
            "4208fceeb8d947e6b27546b109750b6f",
            "1e3ec80ba4684931949803a34d621fbc",
            "b8dd64560b0c4a76b1d8efa4fb8fc958",
            "6a030b281e1545808a1d0b1990f8d7f3",
            "fdea4c5a829a4f2aa8a8dd8c8299fff3",
            "d2274933e4c34c80a30009c8b7d1aa06",
            "d78b724323254982a7385ff3f218381e",
            "0b695a35f1bd462eb9c09ec1ab6ad86b",
            "c89a35d48d0e48b1881d0965e60f5b0f",
            "6da27c2d7501493ab647ac2b800a79be",
            "8aca4a9342da4a068f22c4f2510169c8",
            "9f52f1f0c220422cbe8c43105f65e72b",
            "486386da5dd642ffa8636ce3513e3574",
            "8f8cac859a8a456da8bbcb67ab37191e",
            "22d699ed7d6640c28fbdb0c2ecbf5820",
            "3abd45f95d0e4439a7cde1f9c6c17771",
            "df969dbdbdef4c6eab08181f19ad2a50",
            "0c869b9c521f4182ba78b09659c8aebc",
            "8a0fa7c04e364179aafd265d1f2e2689",
            "6f56124d4b0049a0a4ed04bfc0c44885",
            "59dfc39e4b614f0c91ee8f45e6c9ceac",
            "f26abae48a6441899ff12a7fb5f7fd67",
            "51c740d49ff9400ab4f17130dfbbaa24",
            "8d79f9c2bbd24e21af820bfe10b42d07",
            "5485a4a1559c43e2b758c0399ff959da",
            "80c7b774911f4130a23f470684cc7bbb",
            "f47bf0332f2c4c178c3ab019c613c247",
            "8c037a19cf5743d48ba1bce22635ee36",
            "3be1930f61054e44b18a66d8baa229f9",
            "1923206d950b42b2b38b0caaf7cd1e75",
            "8773745803c04d98b97dcf90932161f3",
            "e4e2d88b49d04d84a40282a4348128ed",
            "f48a4cde8b624334b3f02e9e405dafd9",
            "34a0d3d0ca8043a2acf7f5fbfbd8c9ff",
            "122c02de38304776a7846e761bdbee24",
            "206796112ff84af6be55f6961e1b86fe",
            "fd326fc7fb4c40498f064a9d04e1d5e2",
            "c9fe870e1e3e4c1eb302a03937daafb5",
            "b10dcb73a03744b1840ebb859aa46ec6",
            "830f56588871469c8afc133aa116d23c",
            "1ea142a5d8884975b18fc685c3d6d786",
            "16889c53dd34442db9b8a9edbe22d9e8",
            "087593351df64ee1bf7bafea087f78f8",
            "a652101c0128413db1adbdd6b8ced024",
            "49124fbc3fdd42f8be046b53c6a17526",
            "c153afbf80d54c45a9049a9e97d748ba",
            "71d5ce055fd042a39f108a3d6d376055",
            "3ddbc71a20fd46f382d08f73de2b4dc5",
            "2e83c082bc7f4a6eba821f99608c8a25",
            "c85f702ffb3d45ffbfabe4abd5aa1d18",
            "d8129ed7d58346c981f5dee44edf3935",
            "e5109acc451144bd83a0432ec1d31a85",
            "885d16a1129e42bdba09174058fcec85",
            "c7edb05a98f24d1a84c713b8eaf7b3dc",
            "9cd6f6f7af864402a47f8f5771391116",
            "5f307c316a5840b0a4a5a3d11279d2aa",
            "73290eda1547470e8e54856e03f06ec7",
            "b96ce92e1b5d47d4a8b8b496708596a9",
            "7c150ea1b77548cb8443d7ad7d775931",
            "ca21d6bc8592459585f531b5544c5a87",
            "71cff7e6eae945dc9e4419d26c515211",
            "eb09f3d197c041ef86dd8e1e3014421e",
            "4923c78fd2574899a63673f2fb029862",
            "5344905041df4451bf90e5d0072b7caa",
            "4da58d917ab94948834bc1fb7884555c",
            "22666d7ed3074d4cb8c5005e34e20b03",
            "66c3eb2f67a54e3d985080e2023afdd4",
            "04d66e4d6be7462d9ec968bda696943f",
            "d4b4413c1651425fa61088d82d5b6880",
            "b30912600ace4ef4a0e6261067dd3a16",
            "eaadf70bb977450db6fa1b1172e3f348",
            "bc2a17e94f3d44ad936fb086ba23b9c0",
            "9d85805468a744909a8c67c2583ad0b0",
            "2569e7989a134c8b8d3c3a0d2e416625",
            "1924cbc385de4e9d809755d9ce415a82",
            "03a94a5418c64d19a53a5f02834bc0ae",
            "16be44122bb74e1099c73d67544e8a29",
            "809983cf7785410db9c75d19cbd40c00",
            "9204c5729a964539a1f24f48f4bac153",
            "3ef85ff451c24266a404f197bc2423c1",
            "7127850df8134c49b695bedcbde399ce",
            "22f091ff0f7649b28f1211ec8feea254",
            "388969e89bc540b8b3570ec66c92ecf6",
            "415d82e61d90439db00daaff2981f40f",
            "8bad0918ccc34fcfacc353800c2c4a98",
            "50c31b1496a74fd6b229c6a4dff6d014",
            "494894832aeb408bb05ef21f48a54066",
            "045300a295fc457881b599f660e8aecc",
            "3369eca134604c1a8a526c58433bacbc",
            "56daa7470f7b4d8385adb6849ad01146",
            "9ef82f3a8cf449d396c6d10dfab68aca",
            "7e6559f81de944f39912c005284bb8ac",
            "404aa9a34c4f4fbab03a387e341d9418",
            "0d00335e5d6641c782d2471e31a41681",
            "36fba5a369514d1ba54da20b5be6b236",
            "da55a64a5140480eaa62f7962ec11bd2",
            "3b96d5d811414721bf86ad400a55f901",
            "8617707b172b4b02911d671f5a09083a",
            "c8fe74677f85414fb8600294996cdffb",
            "7aa33f1edbc44d96bd3c7d9404a0a4cf",
            "ac06e42d9c29405c9cc7ef63b948b632",
            "6c275fc9c86e486d9f839d041b548ad1",
            "cf099dbccc134db2ba4379f1d4d2d68e",
            "b36c9c5528a1459fa7d2b1ea9bb58d78",
            "aea4ea2f5a2c42eb8887cfb1bf9350ec",
            "9abf0ba323c146dca4e3563453c54c3d",
            "268b73a00de14fb1ab713100cf51029f",
            "dc2d02942bb54cb3a1b228cb2224f1cd",
            "c919126b6b034495b50fdc33383d94af",
            "435a4ca31e814542b54ac546f16adf07",
            "a3ffba3935a04cc9ae191174359824be",
            "5900214e9dbc472190f4933fbfeebd4f",
            "714a15a831dc46aba38fb9494f1f44bc",
            "42e59eae13194b6d9b64ed61c38216b3",
            "9554d934258b44239e05b6c33ca955cc",
            "4228c76ca38345fe954af1120d225d04",
            "c54a9849609e4f50babd95e8c1105091",
            "e37fda3902b3451d92586c5d94651233",
            "39a73c9031304b6bb0d84fc86073eee9",
            "bec41aedfbd348dfa479139bb1786a08",
            "961d57ffe0684b28b391326423a99239",
            "3c15dc18754d4d258090feb4276dd600",
            "67772a82131c4b31b800a0a9592940bb",
            "c40934fdafb4423c9d92e232d511e63a",
            "6fce365f6f444236a1c277d217b86010",
            "dfe931e1f231497abc9511f074b4038c",
            "a2a85c2f1cf54fc9a77285670ea200bd",
            "f86fa3cea92e42be9116f6ba00c0d79d",
            "d2bad4582cc8444d855648cd88044dd2",
            "31455cbbed434509a23c0cf5f21fd6d7",
            "4561e039e5fc45b08bdfbbfcc2226ccb",
            "206cbc0f893d4a159e58f84ccf7e539b",
            "9cc242a8e4a640a3be9da375a03605b8",
            "e325b83913c349a79907c70d44569bf9",
            "b08baccbfd644356bb42d5ed92eaf664",
            "44d2763bb7b14bbbb12dffc5de6c77e1",
            "85bfc21b01754051819ce1f0400cdf36",
            "742370d61e7e4f409e3d19af97d34498",
            "782bcadfe5194169a6e3010ce1fac419",
            "624b13ed3f954e5e8fe773b98224f80d",
            "ad19b38a263842f8a966717713c697b9",
            "76bae08267fe4e9aa87659e222eaaefc",
            "bd78399dcbbd42af86d78556b06c2e84",
            "4ff0aad048934e24af5a141554283633",
            "e6b1a464ed2e4e4696c378a22836b2c8",
            "cab0c49c265f4118a8c6b0ddb9faa402",
            "ca6fca25d8b74f818201196fabbdfae9",
            "9f2d5ab0a89e4668887701a17eb51015",
            "d9b4df5916c8408b8b935671d3c77602",
            "6781d9652e3747499cc5af4b2c59c78d",
            "3703b0e46822429090b7c21c06480236",
            "634fc0ab626d4986af4cad56622140f1",
            "571f178f7d7d4c2d9fa7c18ffe3be4f1",
            "ff14760aeccf4a9e92f0ae3ab2950a56",
            "34eefb3cce68455d8422f105d54a1811",
            "060738a20a2747459708f6dbfbff5f8b",
            "cf189bdda37941408181e04958e85f60",
            "5943f329616d4ee987a6699d1abdf75e",
            "d7d86ba85b5a4a1abd5a49870af81ba5",
            "e8bde20697504528b3786b55dbec5d33",
            "d6d18f7c62714a3abc09a66e0dd40cbc",
            "63ae13b4055746bbab98dde491aed3f3",
            "088427a626e2413f875df6d0a40e2eba",
            "fea1443a4c9c49498c25054fe4bdb5be",
            "ba0a3dcad227494c84881ec75b3c7c58",
            "c480b39049bd48ffb7bfe9a710a235c9",
            "e7ed8bb976544f7dab06bb96e4679796",
            "c4b2f378bc7a4a38859bd911aa06abf4"
          ]
        },
        "collapsed": true,
        "execution": {
          "iopub.execute_input": "2025-06-19T06:42:57.702107Z",
          "iopub.status.busy": "2025-06-19T06:42:57.701907Z",
          "iopub.status.idle": "2025-06-19T06:56:38.677734Z",
          "shell.execute_reply": "2025-06-19T06:56:38.677070Z",
          "shell.execute_reply.started": "2025-06-19T06:42:57.702092Z"
        },
        "id": "uvpIgbC4DNp6",
        "jupyter": {
          "outputs_hidden": true
        },
        "outputId": "4e90c8c5-443b-405a-c734-2998b2623b8e"
      },
      "outputs": [
        {
          "data": {
            "application/vnd.jupyter.widget-view+json": {
              "model_id": "b865c7ac13054bcbaf7e6bdbd31cc6e5",
              "version_major": 2,
              "version_minor": 0
            },
            "text/plain": [
              "Training Epoch 1:   0%|          | 0/4200 [00:00<?, ?it/s]"
            ]
          },
          "metadata": {},
          "output_type": "display_data"
        },
        {
          "name": "stdout",
          "output_type": "stream",
          "text": [
            "Epoch 1 : \n",
            " Train loss: 0.6568\n",
            " Validation loss: 0.6252\n",
            " Validation F1-score: 0.6533 - Accuraccy: 0.6598\n",
            "\n"
          ]
        },
        {
          "data": {
            "application/vnd.jupyter.widget-view+json": {
              "model_id": "d37ea300180f4e40a510f0afff45e6e8",
              "version_major": 2,
              "version_minor": 0
            },
            "text/plain": [
              "Training Epoch 2:   0%|          | 0/4200 [00:00<?, ?it/s]"
            ]
          },
          "metadata": {},
          "output_type": "display_data"
        },
        {
          "name": "stdout",
          "output_type": "stream",
          "text": [
            "Epoch 2 : \n",
            " Train loss: 0.6259\n",
            " Validation loss: 0.6167\n",
            " Validation F1-score: 0.6095 - Accuraccy: 0.6907\n",
            "\n"
          ]
        },
        {
          "data": {
            "application/vnd.jupyter.widget-view+json": {
              "model_id": "a6e74b593c014b67912f443f247694a7",
              "version_major": 2,
              "version_minor": 0
            },
            "text/plain": [
              "Training Epoch 3:   0%|          | 0/4200 [00:00<?, ?it/s]"
            ]
          },
          "metadata": {},
          "output_type": "display_data"
        },
        {
          "name": "stdout",
          "output_type": "stream",
          "text": [
            "Epoch 3 : \n",
            " Train loss: 0.5524\n",
            " Validation loss: 0.4056\n",
            " Validation F1-score: 0.8030 - Accuraccy: 0.8334\n",
            "\n"
          ]
        },
        {
          "data": {
            "application/vnd.jupyter.widget-view+json": {
              "model_id": "854d61f2f8714bf699108dbb749970c8",
              "version_major": 2,
              "version_minor": 0
            },
            "text/plain": [
              "Training Epoch 4:   0%|          | 0/4200 [00:00<?, ?it/s]"
            ]
          },
          "metadata": {},
          "output_type": "display_data"
        },
        {
          "name": "stdout",
          "output_type": "stream",
          "text": [
            "Epoch 4 : \n",
            " Train loss: 0.3748\n",
            " Validation loss: 0.3493\n",
            " Validation F1-score: 0.8386 - Accuraccy: 0.8624\n",
            "\n"
          ]
        },
        {
          "data": {
            "application/vnd.jupyter.widget-view+json": {
              "model_id": "0637fd7a4c46432ead0c923c7b8d5a64",
              "version_major": 2,
              "version_minor": 0
            },
            "text/plain": [
              "Training Epoch 5:   0%|          | 0/4200 [00:00<?, ?it/s]"
            ]
          },
          "metadata": {},
          "output_type": "display_data"
        },
        {
          "name": "stdout",
          "output_type": "stream",
          "text": [
            "Epoch 5 : \n",
            " Train loss: 0.3146\n",
            " Validation loss: 0.2780\n",
            " Validation F1-score: 0.8755 - Accuraccy: 0.8892\n",
            "\n"
          ]
        },
        {
          "data": {
            "application/vnd.jupyter.widget-view+json": {
              "model_id": "6a030b281e1545808a1d0b1990f8d7f3",
              "version_major": 2,
              "version_minor": 0
            },
            "text/plain": [
              "Training Epoch 6:   0%|          | 0/4200 [00:00<?, ?it/s]"
            ]
          },
          "metadata": {},
          "output_type": "display_data"
        },
        {
          "name": "stdout",
          "output_type": "stream",
          "text": [
            "Epoch 6 : \n",
            " Train loss: 0.2357\n",
            " Validation loss: 0.1901\n",
            " Validation F1-score: 0.9163 - Accuraccy: 0.9282\n",
            "\n"
          ]
        },
        {
          "data": {
            "application/vnd.jupyter.widget-view+json": {
              "model_id": "22d699ed7d6640c28fbdb0c2ecbf5820",
              "version_major": 2,
              "version_minor": 0
            },
            "text/plain": [
              "Training Epoch 7:   0%|          | 0/4200 [00:00<?, ?it/s]"
            ]
          },
          "metadata": {},
          "output_type": "display_data"
        },
        {
          "name": "stdout",
          "output_type": "stream",
          "text": [
            "Epoch 7 : \n",
            " Train loss: 0.1570\n",
            " Validation loss: 0.1543\n",
            " Validation F1-score: 0.9374 - Accuraccy: 0.9456\n",
            "\n"
          ]
        },
        {
          "data": {
            "application/vnd.jupyter.widget-view+json": {
              "model_id": "80c7b774911f4130a23f470684cc7bbb",
              "version_major": 2,
              "version_minor": 0
            },
            "text/plain": [
              "Training Epoch 8:   0%|          | 0/4200 [00:00<?, ?it/s]"
            ]
          },
          "metadata": {},
          "output_type": "display_data"
        },
        {
          "name": "stdout",
          "output_type": "stream",
          "text": [
            "Epoch 8 : \n",
            " Train loss: 0.1059\n",
            " Validation loss: 0.1304\n",
            " Validation F1-score: 0.9467 - Accuraccy: 0.9537\n",
            "\n"
          ]
        },
        {
          "data": {
            "application/vnd.jupyter.widget-view+json": {
              "model_id": "fd326fc7fb4c40498f064a9d04e1d5e2",
              "version_major": 2,
              "version_minor": 0
            },
            "text/plain": [
              "Training Epoch 9:   0%|          | 0/4200 [00:00<?, ?it/s]"
            ]
          },
          "metadata": {},
          "output_type": "display_data"
        },
        {
          "name": "stdout",
          "output_type": "stream",
          "text": [
            "Epoch 9 : \n",
            " Train loss: 0.0719\n",
            " Validation loss: 0.1276\n",
            " Validation F1-score: 0.9501 - Accuraccy: 0.9559\n",
            "\n"
          ]
        },
        {
          "data": {
            "application/vnd.jupyter.widget-view+json": {
              "model_id": "3ddbc71a20fd46f382d08f73de2b4dc5",
              "version_major": 2,
              "version_minor": 0
            },
            "text/plain": [
              "Training Epoch 10:   0%|          | 0/4200 [00:00<?, ?it/s]"
            ]
          },
          "metadata": {},
          "output_type": "display_data"
        },
        {
          "name": "stdout",
          "output_type": "stream",
          "text": [
            "Epoch 10 : \n",
            " Train loss: 0.0512\n",
            " Validation loss: 0.1460\n",
            " Validation F1-score: 0.9461 - Accuraccy: 0.9538\n",
            "\n"
          ]
        },
        {
          "data": {
            "application/vnd.jupyter.widget-view+json": {
              "model_id": "7c150ea1b77548cb8443d7ad7d775931",
              "version_major": 2,
              "version_minor": 0
            },
            "text/plain": [
              "Training Epoch 11:   0%|          | 0/4200 [00:00<?, ?it/s]"
            ]
          },
          "metadata": {},
          "output_type": "display_data"
        },
        {
          "name": "stdout",
          "output_type": "stream",
          "text": [
            "Epoch 11 : \n",
            " Train loss: 0.0403\n",
            " Validation loss: 0.1294\n",
            " Validation F1-score: 0.9558 - Accuraccy: 0.9613\n",
            "\n"
          ]
        },
        {
          "data": {
            "application/vnd.jupyter.widget-view+json": {
              "model_id": "b30912600ace4ef4a0e6261067dd3a16",
              "version_major": 2,
              "version_minor": 0
            },
            "text/plain": [
              "Training Epoch 12:   0%|          | 0/4200 [00:00<?, ?it/s]"
            ]
          },
          "metadata": {},
          "output_type": "display_data"
        },
        {
          "name": "stdout",
          "output_type": "stream",
          "text": [
            "Epoch 12 : \n",
            " Train loss: 0.0340\n",
            " Validation loss: 0.1665\n",
            " Validation F1-score: 0.9440 - Accuraccy: 0.9526\n",
            "\n"
          ]
        },
        {
          "data": {
            "application/vnd.jupyter.widget-view+json": {
              "model_id": "7127850df8134c49b695bedcbde399ce",
              "version_major": 2,
              "version_minor": 0
            },
            "text/plain": [
              "Training Epoch 13:   0%|          | 0/4200 [00:00<?, ?it/s]"
            ]
          },
          "metadata": {},
          "output_type": "display_data"
        },
        {
          "name": "stdout",
          "output_type": "stream",
          "text": [
            "Epoch 13 : \n",
            " Train loss: 0.0298\n",
            " Validation loss: 0.1444\n",
            " Validation F1-score: 0.9554 - Accuraccy: 0.9610\n",
            "\n"
          ]
        },
        {
          "data": {
            "application/vnd.jupyter.widget-view+json": {
              "model_id": "7e6559f81de944f39912c005284bb8ac",
              "version_major": 2,
              "version_minor": 0
            },
            "text/plain": [
              "Training Epoch 14:   0%|          | 0/4200 [00:00<?, ?it/s]"
            ]
          },
          "metadata": {},
          "output_type": "display_data"
        },
        {
          "name": "stdout",
          "output_type": "stream",
          "text": [
            "Epoch 14 : \n",
            " Train loss: 0.0252\n",
            " Validation loss: 0.1424\n",
            " Validation F1-score: 0.9543 - Accuraccy: 0.9602\n",
            "\n"
          ]
        },
        {
          "data": {
            "application/vnd.jupyter.widget-view+json": {
              "model_id": "cf099dbccc134db2ba4379f1d4d2d68e",
              "version_major": 2,
              "version_minor": 0
            },
            "text/plain": [
              "Training Epoch 15:   0%|          | 0/4200 [00:00<?, ?it/s]"
            ]
          },
          "metadata": {},
          "output_type": "display_data"
        },
        {
          "name": "stdout",
          "output_type": "stream",
          "text": [
            "Epoch 15 : \n",
            " Train loss: 0.0220\n",
            " Validation loss: 0.1513\n",
            " Validation F1-score: 0.9557 - Accuraccy: 0.9614\n",
            "\n"
          ]
        },
        {
          "data": {
            "application/vnd.jupyter.widget-view+json": {
              "model_id": "42e59eae13194b6d9b64ed61c38216b3",
              "version_major": 2,
              "version_minor": 0
            },
            "text/plain": [
              "Training Epoch 16:   0%|          | 0/4200 [00:00<?, ?it/s]"
            ]
          },
          "metadata": {},
          "output_type": "display_data"
        },
        {
          "name": "stdout",
          "output_type": "stream",
          "text": [
            "Epoch 16 : \n",
            " Train loss: 0.0213\n",
            " Validation loss: 0.1500\n",
            " Validation F1-score: 0.9556 - Accuraccy: 0.9614\n",
            "\n"
          ]
        },
        {
          "data": {
            "application/vnd.jupyter.widget-view+json": {
              "model_id": "6fce365f6f444236a1c277d217b86010",
              "version_major": 2,
              "version_minor": 0
            },
            "text/plain": [
              "Training Epoch 17:   0%|          | 0/4200 [00:00<?, ?it/s]"
            ]
          },
          "metadata": {},
          "output_type": "display_data"
        },
        {
          "name": "stdout",
          "output_type": "stream",
          "text": [
            "Epoch 17 : \n",
            " Train loss: 0.0192\n",
            " Validation loss: 0.1402\n",
            " Validation F1-score: 0.9550 - Accuraccy: 0.9605\n",
            "\n"
          ]
        },
        {
          "data": {
            "application/vnd.jupyter.widget-view+json": {
              "model_id": "44d2763bb7b14bbbb12dffc5de6c77e1",
              "version_major": 2,
              "version_minor": 0
            },
            "text/plain": [
              "Training Epoch 18:   0%|          | 0/4200 [00:00<?, ?it/s]"
            ]
          },
          "metadata": {},
          "output_type": "display_data"
        },
        {
          "name": "stdout",
          "output_type": "stream",
          "text": [
            "Epoch 18 : \n",
            " Train loss: 0.0179\n",
            " Validation loss: 0.1421\n",
            " Validation F1-score: 0.9589 - Accuraccy: 0.9641\n",
            "\n"
          ]
        },
        {
          "data": {
            "application/vnd.jupyter.widget-view+json": {
              "model_id": "ca6fca25d8b74f818201196fabbdfae9",
              "version_major": 2,
              "version_minor": 0
            },
            "text/plain": [
              "Training Epoch 19:   0%|          | 0/4200 [00:00<?, ?it/s]"
            ]
          },
          "metadata": {},
          "output_type": "display_data"
        },
        {
          "name": "stdout",
          "output_type": "stream",
          "text": [
            "Epoch 19 : \n",
            " Train loss: 0.0170\n",
            " Validation loss: 0.1725\n",
            " Validation F1-score: 0.9546 - Accuraccy: 0.9602\n",
            "\n"
          ]
        },
        {
          "data": {
            "application/vnd.jupyter.widget-view+json": {
              "model_id": "5943f329616d4ee987a6699d1abdf75e",
              "version_major": 2,
              "version_minor": 0
            },
            "text/plain": [
              "Training Epoch 20:   0%|          | 0/4200 [00:00<?, ?it/s]"
            ]
          },
          "metadata": {},
          "output_type": "display_data"
        },
        {
          "name": "stdout",
          "output_type": "stream",
          "text": [
            "Epoch 20 : \n",
            " Train loss: 0.0157\n",
            " Validation loss: 0.1746\n",
            " Validation F1-score: 0.9547 - Accuraccy: 0.9610\n",
            "\n"
          ]
        }
      ],
      "source": [
        "num_epochs = 20\n",
        "\n",
        "history = {\n",
        "    'train_loss': [],\n",
        "    'val_loss': []\n",
        "}\n",
        "\n",
        "device = torch.device(\"cuda\" if torch.cuda.is_available() else \"cpu\")\n",
        "rnn_model.to(device)\n",
        "\n",
        "for epoch in range(num_epochs):\n",
        "\n",
        "  train_loss = train_model(rnn_model,train_loader, optimizer, device, epoch)\n",
        "  val_loss = validation_model(rnn_model, val_loader, device)\n",
        "\n",
        "  history['train_loss'].append(train_loss)\n",
        "  history['val_loss'].append(val_loss)"
      ]
    },
    {
      "cell_type": "markdown",
      "metadata": {
        "id": "sDrlObg8HzFY"
      },
      "source": [
        "## 7.**Performance Evaluation**"
      ]
    },
    {
      "cell_type": "code",
      "execution_count": null,
      "metadata": {
        "colab": {
          "base_uri": "https://localhost:8080/",
          "height": 451
        },
        "execution": {
          "iopub.execute_input": "2025-06-19T06:56:38.678687Z",
          "iopub.status.busy": "2025-06-19T06:56:38.678434Z",
          "iopub.status.idle": "2025-06-19T06:56:38.831333Z",
          "shell.execute_reply": "2025-06-19T06:56:38.830683Z",
          "shell.execute_reply.started": "2025-06-19T06:56:38.678661Z"
        },
        "id": "Z-qhaI_uyRh4",
        "outputId": "ccbb68cd-feed-4d68-c2bf-965d94318642"
      },
      "outputs": [
        {
          "data": {
            "image/png": "[encoded data removed]",
            "text/plain": [
              "<Figure size 640x480 with 1 Axes>"
            ]
          },
          "metadata": {},
          "output_type": "display_data"
        }
      ],
      "source": [
        "plt.plot(history['train_loss'], label='Train Loss')\n",
        "plt.plot([i[0] for i in history['val_loss']], label='Validation Loss')\n",
        "plt.plot([i[2] for i in history['val_loss']],'--r' ,label='Accuracy')\n",
        "plt.xlabel('Epoch')\n",
        "plt.ylabel('Loss')\n",
        "plt.legend()\n",
        "plt.show()"
      ]
    },
    {
      "cell_type": "code",
      "execution_count": null,
      "metadata": {
        "colab": {
          "base_uri": "https://localhost:8080/"
        },
        "execution": {
          "iopub.execute_input": "2025-06-19T06:56:38.832336Z",
          "iopub.status.busy": "2025-06-19T06:56:38.832081Z",
          "iopub.status.idle": "2025-06-19T06:56:41.152613Z",
          "shell.execute_reply": "2025-06-19T06:56:41.151844Z",
          "shell.execute_reply.started": "2025-06-19T06:56:38.832310Z"
        },
        "id": "W23aIQviEoVS",
        "outputId": "7a501719-ffd2-440f-edac-ba05cc0d4062"
      },
      "outputs": [
        {
          "name": "stdout",
          "output_type": "stream",
          "text": [
            "              precision    recall  f1-score   support\n",
            "\n",
            "         0.0       0.95      0.98      0.97      4204\n",
            "         1.0       0.97      0.94      0.95      3262\n",
            "\n",
            "    accuracy                           0.96      7466\n",
            "   macro avg       0.96      0.96      0.96      7466\n",
            "weighted avg       0.96      0.96      0.96      7466\n",
            "\n",
            "Test results :\n",
            "Accuracy: 0.9610233056522904\n",
            "F1 Score: 0.9546517064048621\n"
          ]
        }
      ],
      "source": [
        "test_model(model = rnn_model,test_loader=test_loader, device=device)"
      ]
    },
    {
      "cell_type": "markdown",
      "metadata": {
        "id": "gbS1478FH9i0"
      },
      "source": [
        "- Inference: To evaluate the effectiveness of the trained model I use two sample articles:\n",
        "\n",
        "  - True News Article:\n",
        "    - A real article from The New York Times about a plane crash in India.\n",
        "    - The real article provides factual reporting, detailed information.\n",
        "\n",
        "  - Fake News Article:\n",
        "    - A humorous  article written by a friend.\n",
        "    - The content is brief, lacks detail, and does not include factual information."
      ]
    },
    {
      "cell_type": "code",
      "execution_count": null,
      "metadata": {
        "execution": {
          "iopub.execute_input": "2025-06-19T06:56:41.153657Z",
          "iopub.status.busy": "2025-06-19T06:56:41.153397Z",
          "iopub.status.idle": "2025-06-19T06:56:41.157061Z",
          "shell.execute_reply": "2025-06-19T06:56:41.156379Z",
          "shell.execute_reply.started": "2025-06-19T06:56:41.153631Z"
        },
        "id": "XkeN5DarzhqS"
      },
      "outputs": [],
      "source": [
        "## New york time article\n",
        "true_article = 'The flight data recorder has been recovered and should shed some light on the cause of the disaster, which killed at least 270 people. Indian authorities said they had found the flight data recorder of the Air India plane that crashed, killing hundreds of people, as teams at the site continued to sift through wreckage on Saturday.'\n",
        "## My friend fake news\n",
        "fake_article = 'Putin is the president of The United States'"
      ]
    },
    {
      "cell_type": "code",
      "execution_count": null,
      "metadata": {
        "execution": {
          "iopub.execute_input": "2025-06-19T06:56:41.158253Z",
          "iopub.status.busy": "2025-06-19T06:56:41.157969Z",
          "iopub.status.idle": "2025-06-19T06:56:41.178031Z",
          "shell.execute_reply": "2025-06-19T06:56:41.177423Z",
          "shell.execute_reply.started": "2025-06-19T06:56:41.158230Z"
        },
        "id": "zIXFyCc_v90j"
      },
      "outputs": [],
      "source": [
        "def inference(article, model, device = 'cpu'):\n",
        "  default_article = article\n",
        "\n",
        "  with open('tokenizer.pkl', 'rb') as f:\n",
        "    tokenizer = pickle.load(f)\n",
        "\n",
        "  article = clean_article(article)\n",
        "  article = tokenizer.texts_to_sequences([article])\n",
        "  article = pad_sequences(article, maxlen = 1000, padding='post')\n",
        "\n",
        "  article = torch.LongTensor(article)\n",
        "\n",
        "  model.to(device)\n",
        "\n",
        "  outputs = model(article)\n",
        "  print(outputs)\n",
        "  preds = (outputs >= 0.5)\n",
        "\n",
        "\n",
        "  print(f\"Article : \\n {default_article}\")\n",
        "  print(f\"=> Conclusion : this article is {'true' if preds else 'fake'} article\")"
      ]
    },
    {
      "cell_type": "code",
      "execution_count": null,
      "metadata": {
        "colab": {
          "base_uri": "https://localhost:8080/"
        },
        "execution": {
          "iopub.execute_input": "2025-06-19T06:56:41.179058Z",
          "iopub.status.busy": "2025-06-19T06:56:41.178755Z",
          "iopub.status.idle": "2025-06-19T06:56:41.805225Z",
          "shell.execute_reply": "2025-06-19T06:56:41.804603Z",
          "shell.execute_reply.started": "2025-06-19T06:56:41.179035Z"
        },
        "id": "AbyqFLw6zzMk",
        "outputId": "5ccc25d9-cd44-433f-bc6d-7b9db8d0be4e"
      },
      "outputs": [
        {
          "name": "stdout",
          "output_type": "stream",
          "text": [
            "tensor([[0.9954]], grad_fn=<SigmoidBackward0>)\n",
            "Article : \n",
            " The flight data recorder has been recovered and should shed some light on the cause of the disaster, which killed at least 270 people. Indian authorities said they had found the flight data recorder of the Air India plane that crashed, killing hundreds of people, as teams at the site continued to sift through wreckage on Saturday.\n",
            "=> Conclusion : this article is true article\n"
          ]
        }
      ],
      "source": [
        "inference(true_article, rnn_model)"
      ]
    },
    {
      "cell_type": "code",
      "execution_count": null,
      "metadata": {
        "colab": {
          "base_uri": "https://localhost:8080/"
        },
        "execution": {
          "iopub.execute_input": "2025-06-19T06:56:41.806145Z",
          "iopub.status.busy": "2025-06-19T06:56:41.805921Z",
          "iopub.status.idle": "2025-06-19T06:56:42.026711Z",
          "shell.execute_reply": "2025-06-19T06:56:42.025942Z",
          "shell.execute_reply.started": "2025-06-19T06:56:41.806128Z"
        },
        "id": "2Im2MNX8z2mH",
        "outputId": "27ff4205-bde9-44a8-d6da-e86f8739d452"
      },
      "outputs": [
        {
          "name": "stdout",
          "output_type": "stream",
          "text": [
            "tensor([[0.0002]], grad_fn=<SigmoidBackward0>)\n",
            "Article : \n",
            " Putin is the president of The United States\n",
            "=> Conclusion : this article is fake article\n"
          ]
        }
      ],
      "source": [
        "inference(fake_article, rnn_model)"
      ]
    },
    {
      "cell_type": "markdown",
      "metadata": {
        "id": "Ig1Qeh-vJnP_"
      },
      "source": [
        "## 8.**Conclusion**\n",
        "- The accuracy of each model:\n",
        "\n",
        "| Model  | Accuracy | F1-Score |\n",
        "|-------|-----|-------|\n",
        "| SVC    | 0.94  | 0.94  |\n",
        "| XGBoost  | 0.95  |0.95  |\n",
        "| LSTM-RNN | 0.961  | 0.955  |\n",
        "\n",
        "- With ability to learnthe sequential structure of the sentence, RNN model perform best of three models.\n",
        "\n",
        "- The RNN model successfully predicts the real article as \"True\" and the fake article as \"Fake\", demonstrating its capability to deal with unseen text. This indicates that the model has learned to identify semantic and syntactic of the sentence for classification."
      ]
    }
  ],
  "metadata": {
    "accelerator": "GPU",
    "colab": {
      "gpuType": "T4",
      "provenance": [],
      "include_colab_link": true
    },
    "kaggle": {
      "accelerator": "nvidiaTeslaT4",
      "dataSources": [
        {
          "datasetId": 7693571,
          "sourceId": 12212751,
          "sourceType": "datasetVersion"
        },
        {
          "datasetId": 7693573,
          "sourceId": 12212753,
          "sourceType": "datasetVersion"
        }
      ],
      "dockerImageVersionId": 31040,
      "isGpuEnabled": true,
      "isInternetEnabled": false,
      "language": "python",
      "sourceType": "notebook"
    },
    "kernelspec": {
      "display_name": "Python 3 (ipykernel)",
      "language": "python",
      "name": "python3"
    },
    "language_info": {
      "codemirror_mode": {
        "name": "ipython",
        "version": 3
      },
      "file_extension": ".py",
      "mimetype": "text/x-python",
      "name": "python",
      "nbconvert_exporter": "python",
      "pygments_lexer": "ipython3",
      "version": "3.11.7"
    }
  },
  "nbformat": 4,
  "nbformat_minor": 0
}